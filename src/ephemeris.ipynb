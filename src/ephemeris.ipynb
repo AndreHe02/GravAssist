{
 "cells": [
  {
   "cell_type": "code",
   "execution_count": 6,
   "metadata": {},
   "outputs": [],
   "source": [
    "from SPICE.ephemeris import ephemeris\n",
    "import spiceypy as sp\n",
    "import os\n",
    "\n",
    "#E = ephemeris(sp, 'C:/Users/HP/GravAssist')\n",
    "E = ephemeris(sp, '/Users/labohem/Desktop/school/independent study/GravAssist')"
   ]
  },
  {
   "cell_type": "code",
   "execution_count": 3,
   "metadata": {},
   "outputs": [],
   "source": [
    "from datetime import datetime\n",
    "from gravsystem import gravsystem\n",
    "\n",
    "\n",
    "ss = gravsystem(E, datetime.today())\n",
    "#p = E.get_body('EARTH')\n",
    "\n",
    "#import vpython as vp\n",
    "#scene = vp.canvas(title='3D scene')\n",
    "#print(mars.pos(datetime.today()))\n"
   ]
  },
  {
   "cell_type": "code",
   "execution_count": 4,
   "metadata": {
    "scrolled": true
   },
   "outputs": [
    {
     "name": "stdout",
     "output_type": "stream",
     "text": [
      "line\n"
     ]
    }
   ],
   "source": [
    "print('line')"
   ]
  },
  {
   "cell_type": "code",
   "execution_count": null,
   "metadata": {},
   "outputs": [],
   "source": []
  }
 ],
 "metadata": {
  "kernelspec": {
   "display_name": "Python 3",
   "language": "python",
   "name": "python3"
  },
  "language_info": {
   "codemirror_mode": {
    "name": "ipython",
    "version": 3
   },
   "file_extension": ".py",
   "mimetype": "text/x-python",
   "name": "python",
   "nbconvert_exporter": "python",
   "pygments_lexer": "ipython3",
   "version": "3.7.5"
  }
 },
 "nbformat": 4,
 "nbformat_minor": 2
}
