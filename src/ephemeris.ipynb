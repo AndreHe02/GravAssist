{
 "cells": [
  {
   "cell_type": "code",
   "execution_count": null,
   "metadata": {},
   "outputs": [],
   "source": [
    "from spice.ephemeris import ephemeris\n",
    "import spiceypy as sp\n",
    "import os\n",
    "\n",
    "E = ephemeris(sp, 'C:/Users/HP/GravAssist')"
   ]
  },
  {
   "cell_type": "code",
   "execution_count": 1,
   "metadata": {},
   "outputs": [
    {
     "ename": "SyntaxError",
     "evalue": "invalid syntax (gravsystem.py, line 4)",
     "output_type": "error",
     "traceback": [
      "Traceback \u001b[1;36m(most recent call last)\u001b[0m:\n",
      "  File \u001b[0;32m\"C:\\Users\\HP\\Anaconda3\\lib\\site-packages\\IPython\\core\\interactiveshell.py\"\u001b[0m, line \u001b[0;32m3326\u001b[0m, in \u001b[0;35mrun_code\u001b[0m\n    exec(code_obj, self.user_global_ns, self.user_ns)\n",
      "\u001b[1;36m  File \u001b[1;32m\"<ipython-input-1-6c6826ce7624>\"\u001b[1;36m, line \u001b[1;32m2\u001b[1;36m, in \u001b[1;35m<module>\u001b[1;36m\u001b[0m\n\u001b[1;33m    from gravsystem import gravsystem\u001b[0m\n",
      "\u001b[1;36m  File \u001b[1;32m\"C:\\Users\\HP\\GravAssist\\src\\gravsystem.py\"\u001b[1;36m, line \u001b[1;32m4\u001b[0m\n\u001b[1;33m    def __init__(self, ephemeris, body_list=):\u001b[0m\n\u001b[1;37m                                            ^\u001b[0m\n\u001b[1;31mSyntaxError\u001b[0m\u001b[1;31m:\u001b[0m invalid syntax\n"
     ]
    }
   ],
   "source": [
    "from datetime import datetime\n",
    "from gravsystem import gravsystem\n",
    "\n",
    "\n",
    "ss = gravsystem(E, datetime.today())\n",
    "#p = E.get_body('EARTH')\n",
    "\n",
    "#import vpython as vp\n",
    "#scene = vp.canvas(title='3D scene')\n",
    "#print(mars.pos(datetime.today()))\n"
   ]
  },
  {
   "cell_type": "code",
   "execution_count": null,
   "metadata": {
    "scrolled": true
   },
   "outputs": [],
   "source": [
    "print('line')"
   ]
  }
 ],
 "metadata": {
  "kernelspec": {
   "display_name": "Python 3",
   "language": "python",
   "name": "python3"
  },
  "language_info": {
   "codemirror_mode": {
    "name": "ipython",
    "version": 3
   },
   "file_extension": ".py",
   "mimetype": "text/x-python",
   "name": "python",
   "nbconvert_exporter": "python",
   "pygments_lexer": "ipython3",
   "version": "3.7.4"
  }
 },
 "nbformat": 4,
 "nbformat_minor": 2
}
