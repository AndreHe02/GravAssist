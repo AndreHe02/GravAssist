{
 "cells": [
  {
   "cell_type": "code",
   "execution_count": 1,
   "metadata": {},
   "outputs": [
    {
     "ename": "NameError",
     "evalue": "name 'vp' is not defined",
     "output_type": "error",
     "traceback": [
      "\u001b[1;31m---------------------------------------------------------------------------\u001b[0m",
      "\u001b[1;31mNameError\u001b[0m                                 Traceback (most recent call last)",
      "\u001b[1;32m<ipython-input-1-310ab0bd83b0>\u001b[0m in \u001b[0;36m<module>\u001b[1;34m\u001b[0m\n\u001b[0;32m      1\u001b[0m \u001b[0mscale\u001b[0m \u001b[1;33m=\u001b[0m \u001b[1;36m1e-6\u001b[0m\u001b[1;33m\u001b[0m\u001b[1;33m\u001b[0m\u001b[0m\n\u001b[0;32m      2\u001b[0m \u001b[1;32mimport\u001b[0m \u001b[0mnumpy\u001b[0m \u001b[1;32mas\u001b[0m \u001b[0mnp\u001b[0m\u001b[1;33m\u001b[0m\u001b[1;33m\u001b[0m\u001b[0m\n\u001b[1;32m----> 3\u001b[1;33m \u001b[0mV\u001b[0m \u001b[1;33m=\u001b[0m \u001b[0mvp\u001b[0m\u001b[1;33m.\u001b[0m\u001b[0mvector\u001b[0m\u001b[1;33m\u001b[0m\u001b[1;33m\u001b[0m\u001b[0m\n\u001b[0m\u001b[0;32m      4\u001b[0m \u001b[0marr\u001b[0m \u001b[1;33m=\u001b[0m \u001b[0mnp\u001b[0m\u001b[1;33m.\u001b[0m\u001b[0marray\u001b[0m\u001b[1;33m\u001b[0m\u001b[1;33m\u001b[0m\u001b[0m\n\u001b[0;32m      5\u001b[0m \u001b[1;32mdef\u001b[0m \u001b[0mdraw_solution\u001b[0m\u001b[1;33m(\u001b[0m\u001b[0maE\u001b[0m\u001b[1;33m,\u001b[0m \u001b[0mbE\u001b[0m\u001b[1;33m,\u001b[0m \u001b[0mdt\u001b[0m\u001b[1;33m,\u001b[0m \u001b[0mf2\u001b[0m\u001b[1;33m,\u001b[0m \u001b[0mv1\u001b[0m\u001b[1;33m,\u001b[0m \u001b[0mv2\u001b[0m\u001b[1;33m,\u001b[0m \u001b[0mRinv\u001b[0m\u001b[1;33m)\u001b[0m\u001b[1;33m:\u001b[0m\u001b[1;33m\u001b[0m\u001b[1;33m\u001b[0m\u001b[0m\n",
      "\u001b[1;31mNameError\u001b[0m: name 'vp' is not defined"
     ]
    }
   ],
   "source": [
    "\n"
   ]
  },
  {
   "cell_type": "code",
   "execution_count": 1,
   "metadata": {
    "scrolled": false
   },
   "outputs": [
    {
     "data": {
      "text/html": [
       "<div id=\"glowscript\" class=\"glowscript\"></div>"
      ],
      "text/plain": [
       "<IPython.core.display.HTML object>"
      ]
     },
     "metadata": {},
     "output_type": "display_data"
    },
    {
     "data": {
      "application/javascript": [
       "if (typeof Jupyter !== \"undefined\") { window.__context = { glowscript_container: $(\"#glowscript\").removeAttr(\"id\")};}else{ element.textContent = ' ';}"
      ],
      "text/plain": [
       "<IPython.core.display.Javascript object>"
      ]
     },
     "metadata": {},
     "output_type": "display_data"
    },
    {
     "data": {
      "text/html": [
       "<div id=\"glowscript\" class=\"glowscript\"></div>"
      ],
      "text/plain": [
       "<IPython.core.display.HTML object>"
      ]
     },
     "metadata": {},
     "output_type": "display_data"
    },
    {
     "data": {
      "application/javascript": [
       "if (typeof Jupyter !== \"undefined\") { window.__context = { glowscript_container: $(\"#glowscript\").removeAttr(\"id\")};}else{ element.textContent = ' ';}"
      ],
      "text/plain": [
       "<IPython.core.display.Javascript object>"
      ]
     },
     "metadata": {},
     "output_type": "display_data"
    },
    {
     "data": {
      "application/javascript": [
       "if (typeof Jupyter !== \"undefined\") {require.undef(\"nbextensions/vpython_libraries/glow.min\");}else{element.textContent = ' ';}"
      ],
      "text/plain": [
       "<IPython.core.display.Javascript object>"
      ]
     },
     "metadata": {},
     "output_type": "display_data"
    },
    {
     "data": {
      "application/javascript": [
       "if (typeof Jupyter !== \"undefined\") {require.undef(\"nbextensions/vpython_libraries/glowcomm\");}else{element.textContent = ' ';}"
      ],
      "text/plain": [
       "<IPython.core.display.Javascript object>"
      ]
     },
     "metadata": {},
     "output_type": "display_data"
    },
    {
     "data": {
      "application/javascript": [
       "if (typeof Jupyter !== \"undefined\") {require.undef(\"nbextensions/vpython_libraries/jquery-ui.custom.min\");}else{element.textContent = ' ';}"
      ],
      "text/plain": [
       "<IPython.core.display.Javascript object>"
      ]
     },
     "metadata": {},
     "output_type": "display_data"
    },
    {
     "data": {
      "application/javascript": [
       "if (typeof Jupyter !== \"undefined\") {require([\"nbextensions/vpython_libraries/glow.min\"], function(){console.log(\"GLOW LOADED\");});}else{element.textContent = ' ';}"
      ],
      "text/plain": [
       "<IPython.core.display.Javascript object>"
      ]
     },
     "metadata": {},
     "output_type": "display_data"
    },
    {
     "data": {
      "application/javascript": [
       "if (typeof Jupyter !== \"undefined\") {require([\"nbextensions/vpython_libraries/glowcomm\"], function(){console.log(\"GLOWCOMM LOADED\");});}else{element.textContent = ' ';}"
      ],
      "text/plain": [
       "<IPython.core.display.Javascript object>"
      ]
     },
     "metadata": {},
     "output_type": "display_data"
    },
    {
     "data": {
      "application/javascript": [
       "if (typeof Jupyter !== \"undefined\") {require([\"nbextensions/vpython_libraries/jquery-ui.custom.min\"], function(){console.log(\"JQUERY LOADED\");});}else{element.textContent = ' ';}"
      ],
      "text/plain": [
       "<IPython.core.display.Javascript object>"
      ]
     },
     "metadata": {},
     "output_type": "display_data"
    }
   ],
   "source": [
    "from datetime import timedelta\n",
    "from SPICE.ephemeris import ephemeris\n",
    "import spiceypy as sp\n",
    "from datetime import datetime\n",
    "from gravsystem import gravsystem\n",
    "import vpython as vp\n",
    "from config.parse_config import parse_config\n",
    "\n",
    "def timeflow(real_duration, animation_duration, frame_rate):\n",
    "    total_frames = animation_duration * frame_rate\n",
    "    real_frame_period = real_duration / total_frames\n",
    "    ss.draw()\n",
    "    for _ in range(total_frames):\n",
    "        vp.rate(frame_rate)\n",
    "        ss.update(real_frame_period)\n",
    "        ss.draw()\n",
    "        \n",
    "class dotdict(dict):\n",
    "    \"\"\"modified from https://stackoverflow.com/questions/2352181\"\"\"\n",
    "    \"\"\"dot.notation access to dictionary attributes\"\"\"\n",
    "    def __getattr__(*args): \n",
    "        val = dict.get(*args)\n",
    "        return dotdict(val) if type(val) is dict else val\n",
    "  \n",
    "    def __getitem__(*args):\n",
    "        val = dict.get(*args)\n",
    "        return dotdict(val) if type(val) is dict else val\n",
    "        \n",
    "    __setattr__ = dict.__setitem__\n",
    "    __delattr__ = dict.__delitem__\n",
    "    \n",
    "scale = 1e-6\n",
    "import numpy as np\n",
    "V = vp.vector\n",
    "arr = np.array\n",
    "def draw_solution(aE, bE, dt, f2, v1, v2, Rinv):\n",
    "    vp.sphere(pos=V(*(p2*scale)), radius=5, color=vp.color.purple)\n",
    "    vp.arrow(pos=V(*(p1*scale)), axis=V(*(v1)), color=V(1,0,0), radius=3, shaftwidth=0.2)\n",
    "    vp.arrow(pos=V(*(p2*scale)), axis=V(*(v2)), color=V(0,0,1), radius=3, shaftwidth=0.2)\n",
    "    vp.sphere(pos=V(*(f2*scale)), radius=1, color=vp.color.orange)\n",
    "    circ = vp.shapes.circle(pos=(0,0), radius=0.2)\n",
    "    path = vp.paths.ellipse(pos=V(*(f2/2*scale)), \n",
    "                             width=aE*scale, height=bE*scale)\n",
    "    orbit = vp.extrusion(path=path, shape=circ, axis=V(*f2))   \n",
    "    up = Rinv(arr([0,0,1]))\n",
    "    orbit.up = V(*up)\n",
    "\n",
    "def convert(dateObj):\n",
    "    return sp.str2et(dateObj.strftime(\"%Y %b %d %H:%M:%S\").lower())\n",
    "\n",
    "\n",
    "config = parse_config('C:/Users/HP/GravAssist/src/config/config.json')\n",
    "now = datetime.today()\n",
    "ephemeris = ephemeris(sp, config)\n",
    "ss = gravsystem(config, ephemeris, now)\n",
    "scene = vp.canvas(title='3D scene')\n",
    "timeflow(timedelta(days=0), 1, 10)"
   ]
  },
  {
   "cell_type": "code",
   "execution_count": 4,
   "metadata": {},
   "outputs": [],
   "source": [
    "timeflow(timedelta(days=90), 1, 10)"
   ]
  },
  {
   "cell_type": "code",
   "execution_count": 2,
   "metadata": {},
   "outputs": [
    {
     "name": "stderr",
     "output_type": "stream",
     "text": [
      "C:\\Users\\HP\\GravAssist\\src\\lambert.py:76: RuntimeWarning: invalid value encountered in arccos\n",
      "  th = np.arccos(np.sum(r1E * r2E) / norm(r1E) / norm(r2E))\n"
     ]
    }
   ],
   "source": [
    "import numpy as np\n",
    "from lambert import lambert_transfer\n",
    "\n",
    "T = timedelta(days=900)\n",
    "GM = ss.body_list['SUN'].const('GM', 1)\n",
    "p1 = ss.body_list['EARTH'].state(ss.time)[:3]\n",
    "p2 = ss.body_list['JUPITER'].state(ss.time+T)[:3]\n",
    "\n",
    "Rsoi = {'EARTH': 0.929e6, 'MERCURY':0.112e6, 'VENUS':0.616e6,\n",
    "       'MARS':0.578e6, 'JUPITER':48.2e6, 'SATURN':54.5e6,\n",
    "       'URANUS':51.9e6, 'NEPTUNE':86.8e6}\n",
    "\n",
    "v1 = ss.body_list['EARTH'].state(ss.time)[3:]\n",
    "p1_ = p1 + v1/np.linalg.norm(v1) * Rsoi['EARTH']\n",
    "\n",
    "solutions = lambert_transfer(p1_, p2, ss.time, T, GM)\n",
    "solution = solutions[0]\n",
    "#s2 = solutions[1]\n",
    "\n",
    "#TE = timedelta(seconds=((4 * np.pi**2 * solution['aE']**3 / GM) ** 0.5)[0])\n",
    "#print(solution['dt'])\n",
    "draw_solution(**solution)\n",
    "\n",
    "vp.sphere(pos=V(*(p2*scale)), color=vp.color.purple, size=V(8,8,8))\n",
    "\n",
    "pf = np.concatenate((p1_, solution['v1']))\n",
    "#for i in range(100):\n",
    "pf = sp.prop2b(GM, pf, T.total_seconds())\n",
    "vp.sphere(pos=V(*(pf[:3]*scale)), color=V(1, 1, 0), size=V(10,10,10))\n",
    "\n"
   ]
  },
  {
   "cell_type": "code",
   "execution_count": 5,
   "metadata": {},
   "outputs": [],
   "source": [
    "vp.sphere(pos=V(*(ss.body_list['MARS'].state(ss.time+T)[:3]*scale)), size=V(8,8,8), color=vp.color.purple)\n",
    "solutions = lambert_transfer(p1, p2, ss.time, T, GM)\n",
    "sol = solutions[0]\n",
    "draw_solution(**sol)"
   ]
  },
  {
   "cell_type": "code",
   "execution_count": 18,
   "metadata": {},
   "outputs": [
    {
     "name": "stdout",
     "output_type": "stream",
     "text": [
      "3.686765193939209\n"
     ]
    }
   ],
   "source": [
    "import time\n",
    "from imp import reload\n",
    "import lambert\n",
    "reload(lambert)\n",
    "\n",
    "start = time.time()\n",
    "for _ in range(10):\n",
    "    solutions = lambert.lambert_transfer(p1, p2, ss.time, T, GM)\n",
    "end = time.time()\n",
    "print(end-start)"
   ]
  },
  {
   "cell_type": "code",
   "execution_count": 20,
   "metadata": {},
   "outputs": [],
   "source": [
    "import copy\n",
    "RSOI = {'EARTH': 0.929e6, 'MERCURY':0.112e6, 'VENUS':0.616e6,\n",
    "       'MARS':0.578e6, 'JUPITER':48.2e6, 'SATURN':54.5e6,\n",
    "       'URANUS':51.9e6, 'NEPTUNE':86.8e6}\n",
    "\n",
    "def entrancePt(Rsoi, th1, th2):\n",
    "    ept = np.array([Rsoi, 0, 0]).T\n",
    "    Mry = np.array([[np.cos(th1), 0, np.sin(th1)], [0, 1, 0], [-np.sin(th1), 0, np.cos(th1)]])\n",
    "    Mrz = np.array([[np.cos(th2), -np.sin(th2), 0], [np.sin(th2), np.cos(th2), 0],[0, 0, 1]])\n",
    "    ept = np.matmul(Mry, ept)\n",
    "    ept = np.matmul(Mrz, ept)\n",
    "    return ept\n",
    "\n",
    "\n",
    "#in planet's reference frame\n",
    "def swingby(state0_, GM, Rsoi, time_precision=60):\n",
    "    statef = copy.deepcopy(state0_)\n",
    "    steps = 0\n",
    "    while np.linalg.norm(statef[:3])/Rsoi < 1.01:\n",
    "        statef = sp.prop2b(GM, statef, time_precision)\n",
    "        steps += 1\n",
    "    return statef, time_precsion * steps\n",
    "\n",
    "T = timedelta(days=100)\n",
    "GM = ss.body_list['SUN'].const('GM', 1)\n",
    "p1 = ss.body_list['EARTH'].state(ss.time)[:3]\n",
    "state2 = ss.body_list['MARS'].state(ss.time+T)\n",
    "p2 = state2[:3]\n",
    "vm = state2[3:]\n",
    "\n",
    "import lambert\n",
    "lmb = lambert.lambert_transfer(p1, p2, ss.time, T, GM)[1]\n",
    "v_ent = lmb['v2'] - vm\n",
    "\n",
    "draw_solution(**lmb)\n",
    "\n",
    "\"\"\"\n",
    "for i in range(20):\n",
    "    for j in range(10):\n",
    "        th1 , th2 = i * np.pi /10, j*np.pi / 10\n",
    "        ent = entrancePt(RSOI['MARS'], th1, th2)\n",
    "        state0 = np.concatenate((ent, v_ent))\n",
    "        statef = sp.prop2b(ss.body_list['MARS'].const('GM', 1), state0, 1000)\n",
    "        if np.linalg.norm(state0) > np.linalg.norm(statef):\n",
    "            vp.sphere(pos=V(*((ent*100 + p2)*scale)), size=V(2, 2, 2), color=vp.color.green)\n",
    "            print(i, j)\n",
    "\"\"\"\n",
    "th1 , th2 = 0, -2\n",
    "ent = entrancePt(RSOI['MARS'], th1, th2)\n",
    "vp.arrow(pos=V(*(p2*scale)), axis=V(*entrancePt(1, 0, 0)), shaft_width=0.1)\n",
    "\n",
    "vp.arrow(pos=V(*(p2*scale)), axis=V(*entrancePt(1, np.pi/2, 0)), shaft_width=0.1, color=vp.color.green)\n",
    "vp.arrow(pos=V(*(p2*scale)), axis=V(*entrancePt(1, 0, np.pi/2)), shaft_width=0.1, color=vp.color.red)\n",
    "\n",
    "statef = np.concatenate((ent, v_ent))\n",
    "step = timedelta(minutes=100)\n",
    "cnt = 0\n",
    "while np.linalg.norm(statef[:3])/RSOI['MARS'] < 1.01:\n",
    "        statef = sp.prop2b(ss.body_list['MARS'].const('GM', 1), statef, step.total_seconds())\n",
    "        pm = ss.body_list['MARS'].state(ss.time+T + cnt * step)[:3]\n",
    "        x= statef[:3]+pm\n",
    "        \n",
    "        \n",
    "        vp.sphere(pos=V(*()*scale)), size=V(2, 2, 2), color=vp.color.green)\n",
    "        cnt += 1\n",
    "\n",
    "        \n"
   ]
  },
  {
   "cell_type": "code",
   "execution_count": null,
   "metadata": {},
   "outputs": [],
   "source": []
  }
 ],
 "metadata": {
  "kernelspec": {
   "display_name": "Python 3",
   "language": "python",
   "name": "python3"
  },
  "language_info": {
   "codemirror_mode": {
    "name": "ipython",
    "version": 3
   },
   "file_extension": ".py",
   "mimetype": "text/x-python",
   "name": "python",
   "nbconvert_exporter": "python",
   "pygments_lexer": "ipython3",
   "version": "3.7.4"
  }
 },
 "nbformat": 4,
 "nbformat_minor": 2
}
