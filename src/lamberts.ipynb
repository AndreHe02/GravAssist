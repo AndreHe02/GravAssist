{
 "cells": [
  {
   "cell_type": "code",
   "execution_count": 1,
   "metadata": {
    "scrolled": false
   },
   "outputs": [
    {
     "data": {
      "text/html": [
       "<div id=\"glowscript\" class=\"glowscript\"></div>"
      ],
      "text/plain": [
       "<IPython.core.display.HTML object>"
      ]
     },
     "metadata": {},
     "output_type": "display_data"
    },
    {
     "data": {
      "application/javascript": [
       "if (typeof Jupyter !== \"undefined\") { window.__context = { glowscript_container: $(\"#glowscript\").removeAttr(\"id\")};}else{ element.textContent = ' ';}"
      ],
      "text/plain": [
       "<IPython.core.display.Javascript object>"
      ]
     },
     "metadata": {},
     "output_type": "display_data"
    },
    {
     "data": {
      "text/html": [
       "<div id=\"glowscript\" class=\"glowscript\"></div>"
      ],
      "text/plain": [
       "<IPython.core.display.HTML object>"
      ]
     },
     "metadata": {},
     "output_type": "display_data"
    },
    {
     "data": {
      "application/javascript": [
       "if (typeof Jupyter !== \"undefined\") { window.__context = { glowscript_container: $(\"#glowscript\").removeAttr(\"id\")};}else{ element.textContent = ' ';}"
      ],
      "text/plain": [
       "<IPython.core.display.Javascript object>"
      ]
     },
     "metadata": {},
     "output_type": "display_data"
    },
    {
     "data": {
      "application/javascript": [
       "if (typeof Jupyter !== \"undefined\") {require.undef(\"nbextensions/vpython_libraries/glow.min\");}else{element.textContent = ' ';}"
      ],
      "text/plain": [
       "<IPython.core.display.Javascript object>"
      ]
     },
     "metadata": {},
     "output_type": "display_data"
    },
    {
     "data": {
      "application/javascript": [
       "if (typeof Jupyter !== \"undefined\") {require.undef(\"nbextensions/vpython_libraries/glowcomm\");}else{element.textContent = ' ';}"
      ],
      "text/plain": [
       "<IPython.core.display.Javascript object>"
      ]
     },
     "metadata": {},
     "output_type": "display_data"
    },
    {
     "data": {
      "application/javascript": [
       "if (typeof Jupyter !== \"undefined\") {require.undef(\"nbextensions/vpython_libraries/jquery-ui.custom.min\");}else{element.textContent = ' ';}"
      ],
      "text/plain": [
       "<IPython.core.display.Javascript object>"
      ]
     },
     "metadata": {},
     "output_type": "display_data"
    },
    {
     "data": {
      "application/javascript": [
       "if (typeof Jupyter !== \"undefined\") {require([\"nbextensions/vpython_libraries/glow.min\"], function(){console.log(\"GLOW LOADED\");});}else{element.textContent = ' ';}"
      ],
      "text/plain": [
       "<IPython.core.display.Javascript object>"
      ]
     },
     "metadata": {},
     "output_type": "display_data"
    },
    {
     "data": {
      "application/javascript": [
       "if (typeof Jupyter !== \"undefined\") {require([\"nbextensions/vpython_libraries/glowcomm\"], function(){console.log(\"GLOWCOMM LOADED\");});}else{element.textContent = ' ';}"
      ],
      "text/plain": [
       "<IPython.core.display.Javascript object>"
      ]
     },
     "metadata": {},
     "output_type": "display_data"
    },
    {
     "data": {
      "application/javascript": [
       "if (typeof Jupyter !== \"undefined\") {require([\"nbextensions/vpython_libraries/jquery-ui.custom.min\"], function(){console.log(\"JQUERY LOADED\");});}else{element.textContent = ' ';}"
      ],
      "text/plain": [
       "<IPython.core.display.Javascript object>"
      ]
     },
     "metadata": {},
     "output_type": "display_data"
    }
   ],
   "source": [
    "from datetime import timedelta\n",
    "from SPICE.ephemeris import ephemeris\n",
    "import spiceypy as sp\n",
    "from datetime import datetime\n",
    "from gravsystem import gravsystem\n",
    "import vpython as vp\n",
    "from config.parse_config import parse_config\n",
    "\n",
    "def timeflow(real_duration, animation_duration, frame_rate):\n",
    "    total_frames = animation_duration * frame_rate\n",
    "    real_frame_period = real_duration / total_frames\n",
    "    for _ in range(total_frames):\n",
    "        vp.rate(frame_rate)\n",
    "        ss.draw()\n",
    "        ss.update(real_frame_period)\n",
    "        \n",
    "class dotdict(dict):\n",
    "    \"\"\"modified from https://stackoverflow.com/questions/2352181\"\"\"\n",
    "    \"\"\"dot.notation access to dictionary attributes\"\"\"\n",
    "    def __getattr__(*args): \n",
    "        val = dict.get(*args)\n",
    "        return dotdict(val) if type(val) is dict else val\n",
    "  \n",
    "    def __getitem__(*args):\n",
    "        val = dict.get(*args)\n",
    "        return dotdict(val) if type(val) is dict else val\n",
    "        \n",
    "    __setattr__ = dict.__setitem__\n",
    "    __delattr__ = dict.__delitem__\n",
    "\n",
    "\n",
    "config = parse_config('C:/Users/HP/GravAssist/src/config/config_experiment.json')\n",
    "now = datetime.today()\n",
    "ephemeris = ephemeris(sp, config)\n",
    "ss = gravsystem(config, ephemeris, now)\n",
    "scene = vp.canvas(title='3D scene')\n",
    "timeflow(timedelta(days=0), 1, 10)\n",
    "\n",
    "#from passive_body import passive_body          "
   ]
  },
  {
   "cell_type": "code",
   "execution_count": 2,
   "metadata": {},
   "outputs": [],
   "source": [
    "timeflow(timedelta(days=150), 5, 100)"
   ]
  },
  {
   "cell_type": "code",
   "execution_count": 2,
   "metadata": {},
   "outputs": [],
   "source": [
    "import numpy as np\n",
    "from numpy.linalg import norm as norm\n",
    "from vpython import vector as V\n",
    "from numpy import array as arr\n",
    "from lambert import lambert_transfer\n",
    "\n",
    "scale = 1e-6\n",
    "def draw_solution(aE, bE, dt, f2, v1, v2, Rinv):\n",
    "    vp.sphere(pos=V(*(p2*scale)), radius=5, color=vp.color.purple)\n",
    "    vp.arrow(pos=V(*(p1*scale)), axis=V(*(v1)), color=V(1,0,0), radius=3, shaftwidth=0.2)\n",
    "    vp.arrow(pos=V(*(p2*scale)), axis=V(*(v2)), color=V(0,0,1), radius=3, shaftwidth=0.2)\n",
    "    vp.sphere(pos=V(*(f2*scale)), radius=1, color=vp.color.orange)\n",
    "    circ = vp.shapes.circle(pos=(0,0), radius=0.2)\n",
    "    path = vp.paths.ellipse(pos=V(*(f2/2*scale)), \n",
    "                             width=aE*scale, height=bE*scale)\n",
    "    orbit = vp.extrusion(path=path, shape=circ, axis=V(*f2))   \n",
    "    up = Rinv(arr([0,0,1]))\n",
    "    orbit.up = V(*up)\n",
    "\n",
    "T = timedelta(days=30)\n",
    "GM = ss.body_list['SUN'].const('GM', 1)\n",
    "p1 = ss.body_list['MERCURY'].state(ss.time)[:3]\n",
    "p2 = ss.body_list['VENUS'].state(ss.time+T)[:3]\n",
    "solutions = lambert_transfer(p1, p2, ss.time, T, GM)\n",
    "for solution in solutions: draw_solution(**solution)\n",
    "\n"
   ]
  },
  {
   "cell_type": "code",
   "execution_count": 9,
   "metadata": {},
   "outputs": [
    {
     "name": "stdout",
     "output_type": "stream",
     "text": [
      "Help on method ellipse in module vpython.shapespaths:\n",
      "\n",
      "ellipse(pos=<0, 0, 0>, width=6, height=None, np=32, thickness=None, scale=1.0, xscale=1.0, yscale=1.0, up=<0, 1, 0>) method of vpython.shapespaths.path_object instance\n",
      "\n"
     ]
    }
   ],
   "source": [
    "#---------------------------------------------------------------------------\n",
    "'''vp.arrow(axis=V(*(r1E*10)), color=V(1,0.8,0.8), shaftwidth=0.1)\n",
    "vp.arrow(axis=V(*(r2E*10)), color=V(0.8,0.8,1), shaftwidth=0.1)\n",
    "vp.arrow(pos=V(*(r1E*10)), axis=V(*(v1E*10)), color=V(1,0.8,0.8), shaftwidth=0.2)\n",
    "vp.arrow(pos=V(*(r2E*10)), axis=V(*(v2E*10)), color=V(0.8,0.8,1), shaftwidth=0.2)\n",
    "\n",
    "circR = vp.shapes.circle(pos=(0,0), radius=0.2)\n",
    "pathR = vp.paths.ellipse(pos=V(0,0,0),  \n",
    "    width=10, height=10, up=V(0,0,1))\n",
    "orbitR = vp.extrusion(path=pathR, shape=circR)'''\n",
    "#---------------------------------------------------------------------------\n",
    "'''\n",
    "vp.arrow(axis=V(*(p1R*scale2)), color=V(1,0.8,0.8), shaftwidth=0.1)\n",
    "vp.arrow(axis=V(*(p2R*scale2)), color=V(0.8,0.8,1), shaftwidth=0.1)\n",
    "vp.arrow(pos=V(*(p1R*scale2)), axis=V(*(v1R*scale2)), color=V(1,0.8,0.8), shaftwidth=0.1)\n",
    "vp.arrow(pos=V(*(p2R*scale2)), axis=V(*(v2R*scale2)), color=V(0.8,0.8,1), shaftwidth=0.1)\n",
    "\n",
    "circ = vp.shapes.circle(pos=(0,0), radius=0.2)\n",
    "path = vp.paths.ellipse(pos=V(*(ctR*scale2)),  \n",
    "                         width=aE*scale2, height=bE*scale2, up=vp.vector(0,0,1))\n",
    "orbit = vp.extrusion(path=path, shape=circ)\n",
    "orbit.rotate(angle = np.arctan(f2R[1]/f2R[0]), axis=vp.vector(0,0,1))'''\n",
    "#---------------------------------------------------------------------------\n",
    "'''vp.sphere(pos=V(*(p1*scale)), color=V(1,0,0), radius=3)\n",
    "vp.sphere(pos=V(*(p2*scale)), color=V(0,0,1), radius=3)\n",
    "vp.arrow(pos=V(*(p1*scale)), axis=V(*(v1*scale)), color=V(1,0,0), radius=3, shaftwidth=0.2)\n",
    "vp.arrow(pos=V(*(p2*scale)), axis=V(*(v2*scale)), color=V(0,0,1), radius=3, shaftwidth=0.2)\n",
    "\n",
    "vp.arrow(pos=V(0,0,0), axis=V(*(i*40)), color=V(1,0,0), shaftwidth=0.1)\n",
    "vp.arrow(pos=V(0,0,0), axis=V(*(j*40)), color=V(0,0,1), shaftwidth=0.1)\n",
    "vp.arrow(pos=V(0,0,0), axis=V(*(k*40)), color=V(0,1,0), shaftwidth=0.1)\n",
    "\n",
    "#vp.arrow(pos=V(*(p1*scale)), axis=V(*(v1n*10)))\n",
    "#vp.arrow(pos=V(*(p2*scale)), axis=V(*(v2n*10)))\n",
    "\n",
    "vp.sphere(pos=V(*(f2*scale)), radius=1, color=vp.color.orange)\n",
    "\n",
    "circ = vp.shapes.circle(pos=(0,0), radius=0.2)\n",
    "path = vp.paths.ellipse(pos=V(*Rinv(ctR*scale)), \n",
    "                         width=aE*scale, height=bE*scale)\n",
    "\n",
    "orbit = vp.extrusion(path=path, shape=circ, axis=V(*f2))   \n",
    "up = Rinv(arr([0,0,1]))\n",
    "orbit.up = V(*up)'''\n",
    "#---------------------------------------------------------------------------"
   ]
  },
  {
   "cell_type": "code",
   "execution_count": 6,
   "metadata": {},
   "outputs": [
    {
     "data": {
      "image/png": "[encoded data removed]",
      "text/plain": [
       "<Figure size 432x288 with 1 Axes>"
      ]
     },
     "metadata": {
      "needs_background": "light"
     },
     "output_type": "display_data"
    }
   ],
   "source": [
    "import matplotlib.pyplot as plt\n",
    "lv = np.linspace(0, 1e8, 1000)\n",
    "lbts = [elp_transfer(l)['dt'].days for l in lv] \n",
    "plt.plot(lv, lbts)\n",
    "plt.show()\n",
    "\n",
    "#path = elp_transfer(0.1*10e7)\n",
    "#print(path['dt'].days)"
   ]
  }
 ],
 "metadata": {
  "kernelspec": {
   "display_name": "Python 3",
   "language": "python",
   "name": "python3"
  },
  "language_info": {
   "codemirror_mode": {
    "name": "ipython",
    "version": 3
   },
   "file_extension": ".py",
   "mimetype": "text/x-python",
   "name": "python",
   "nbconvert_exporter": "python",
   "pygments_lexer": "ipython3",
   "version": "3.7.4"
  }
 },
 "nbformat": 4,
 "nbformat_minor": 2
}
