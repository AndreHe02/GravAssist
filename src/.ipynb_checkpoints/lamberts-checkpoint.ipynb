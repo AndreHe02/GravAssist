{
 "cells": [
  {
   "cell_type": "code",
   "execution_count": 1,
   "metadata": {
    "scrolled": false
   },
   "outputs": [
    {
     "data": {
      "text/html": [
       "<div id=\"glowscript\" class=\"glowscript\"></div>"
      ],
      "text/plain": [
       "<IPython.core.display.HTML object>"
      ]
     },
     "metadata": {},
     "output_type": "display_data"
    },
    {
     "data": {
      "application/javascript": [
       "if (typeof Jupyter !== \"undefined\") { window.__context = { glowscript_container: $(\"#glowscript\").removeAttr(\"id\")};}else{ element.textContent = ' ';}"
      ],
      "text/plain": [
       "<IPython.core.display.Javascript object>"
      ]
     },
     "metadata": {},
     "output_type": "display_data"
    },
    {
     "data": {
      "text/html": [
       "<div id=\"glowscript\" class=\"glowscript\"></div>"
      ],
      "text/plain": [
       "<IPython.core.display.HTML object>"
      ]
     },
     "metadata": {},
     "output_type": "display_data"
    },
    {
     "data": {
      "application/javascript": [
       "if (typeof Jupyter !== \"undefined\") { window.__context = { glowscript_container: $(\"#glowscript\").removeAttr(\"id\")};}else{ element.textContent = ' ';}"
      ],
      "text/plain": [
       "<IPython.core.display.Javascript object>"
      ]
     },
     "metadata": {},
     "output_type": "display_data"
    },
    {
     "data": {
      "application/javascript": [
       "if (typeof Jupyter !== \"undefined\") {require.undef(\"nbextensions/vpython_libraries/glow.min\");}else{element.textContent = ' ';}"
      ],
      "text/plain": [
       "<IPython.core.display.Javascript object>"
      ]
     },
     "metadata": {},
     "output_type": "display_data"
    },
    {
     "data": {
      "application/javascript": [
       "if (typeof Jupyter !== \"undefined\") {require.undef(\"nbextensions/vpython_libraries/glowcomm\");}else{element.textContent = ' ';}"
      ],
      "text/plain": [
       "<IPython.core.display.Javascript object>"
      ]
     },
     "metadata": {},
     "output_type": "display_data"
    },
    {
     "data": {
      "application/javascript": [
       "if (typeof Jupyter !== \"undefined\") {require.undef(\"nbextensions/vpython_libraries/jquery-ui.custom.min\");}else{element.textContent = ' ';}"
      ],
      "text/plain": [
       "<IPython.core.display.Javascript object>"
      ]
     },
     "metadata": {},
     "output_type": "display_data"
    },
    {
     "data": {
      "application/javascript": [
       "if (typeof Jupyter !== \"undefined\") {require([\"nbextensions/vpython_libraries/glow.min\"], function(){console.log(\"GLOW LOADED\");});}else{element.textContent = ' ';}"
      ],
      "text/plain": [
       "<IPython.core.display.Javascript object>"
      ]
     },
     "metadata": {},
     "output_type": "display_data"
    },
    {
     "data": {
      "application/javascript": [
       "if (typeof Jupyter !== \"undefined\") {require([\"nbextensions/vpython_libraries/glowcomm\"], function(){console.log(\"GLOWCOMM LOADED\");});}else{element.textContent = ' ';}"
      ],
      "text/plain": [
       "<IPython.core.display.Javascript object>"
      ]
     },
     "metadata": {},
     "output_type": "display_data"
    },
    {
     "data": {
      "application/javascript": [
       "if (typeof Jupyter !== \"undefined\") {require([\"nbextensions/vpython_libraries/jquery-ui.custom.min\"], function(){console.log(\"JQUERY LOADED\");});}else{element.textContent = ' ';}"
      ],
      "text/plain": [
       "<IPython.core.display.Javascript object>"
      ]
     },
     "metadata": {},
     "output_type": "display_data"
    }
   ],
   "source": [
    "from datetime import timedelta\n",
    "from SPICE.ephemeris import ephemeris\n",
    "import spiceypy as sp\n",
    "from datetime import datetime\n",
    "from gravsystem import gravsystem\n",
    "import vpython as vp\n",
    "from config.parse_config import parse_config\n",
    "\n",
    "def timeflow(real_duration, animation_duration, frame_rate):\n",
    "    total_frames = animation_duration * frame_rate\n",
    "    real_frame_period = real_duration / total_frames\n",
    "    for _ in range(total_frames):\n",
    "        vp.rate(frame_rate)\n",
    "        ss.draw()\n",
    "        ss.update(real_frame_period)\n",
    "        \n",
    "class dotdict(dict):\n",
    "    \"\"\"modified from https://stackoverflow.com/questions/2352181\"\"\"\n",
    "    \"\"\"dot.notation access to dictionary attributes\"\"\"\n",
    "    def __getattr__(*args): \n",
    "        val = dict.get(*args)\n",
    "        return dotdict(val) if type(val) is dict else val\n",
    "  \n",
    "    def __getitem__(*args):\n",
    "        val = dict.get(*args)\n",
    "        return dotdict(val) if type(val) is dict else val\n",
    "        \n",
    "    __setattr__ = dict.__setitem__\n",
    "    __delattr__ = dict.__delitem__\n",
    "\n",
    "\n",
    "config = parse_config('C:/Users/andre/Desktop/GravAssist/src/config/config_experiment.json')\n",
    "now = datetime.today()\n",
    "ephemeris = ephemeris(sp, config)\n",
    "ss = gravsystem(config, ephemeris, now)\n",
    "scene = vp.canvas(title='3D scene')\n",
    "timeflow(timedelta(days=0), 1, 10)\n",
    "\n",
    "#from passive_body import passive_body          "
   ]
  },
  {
   "cell_type": "code",
   "execution_count": 20,
   "metadata": {},
   "outputs": [],
   "source": [
    "timeflow(timedelta(days=400), 5, 100)"
   ]
  },
  {
   "cell_type": "code",
   "execution_count": 22,
   "metadata": {},
   "outputs": [
    {
     "data": {
      "image/png": "[encoded data removed]",
      "text/plain": [
       "<Figure size 432x288 with 1 Axes>"
      ]
     },
     "metadata": {
      "needs_background": "light"
     },
     "output_type": "display_data"
    }
   ],
   "source": [
    "import numpy as np\n",
    "from numpy.linalg import norm as norm\n",
    "from vpython import vector as V\n",
    "from numpy import array as arr\n",
    "\n",
    "scale = 1/(10**6)\n",
    "scale2 = 3/(10**7)\n",
    "\n",
    "def lambert_transfer(bd1, bd2, t0, T):\n",
    "    #vectors/variables followed by R, H, E are:\n",
    "    #R - in dimension reduced 2D vector space\n",
    "    #H - in vector space defined by hyperbola axes\n",
    "    #E - in vector space defined by ellipse axes\n",
    "    p1 = bd1.state(t0)[:3]\n",
    "    p2 = bd2.state(t0+T)[:3]\n",
    "    #p1 always shorter leg\n",
    "    mirrored = False\n",
    "    if norm(p2) < norm(p1):\n",
    "        temp = p1\n",
    "        p1 = p2\n",
    "        p2 = temp\n",
    "        mirrored = True\n",
    "    \n",
    "    #compute dimension reduction matrix\n",
    "    i = p1 / norm(p1)\n",
    "    p2n = p2 / norm(p2)\n",
    "    k = np.cross(i, p2n)\n",
    "    k = k / norm(k)\n",
    "    j = np.cross(k, i)\n",
    "    Rinv_ = np.transpose(arr([i, j, k]))\n",
    "    R_ = np.linalg.inv(Rinv_)\n",
    "    R = lambda v: np.matmul(R_, v)\n",
    "    Rinv = lambda v: np.matmul(Rinv_, v)\n",
    "    p1R = R(p1)\n",
    "    p2R = R(p2)\n",
    "    \n",
    "    #compute hyperbola paremeters\n",
    "    #defined according to lambert's method\n",
    "    aH = abs(norm(p2R) - norm(p1R))/2\n",
    "    dH = norm(p2R - p1R) / 2\n",
    "    bH = np.sqrt(dH**2 - aH**2)\n",
    "    \n",
    "    def elp_transfer(lH):\n",
    "        #compute f2=(x,y) with respect to hyperbola axes\n",
    "        xH = aH + abs(lH)\n",
    "        yH = bH * np.sqrt(xH**2/aH**2 - 1)\n",
    "        iH_ = (p2R - p1R)\n",
    "        iH = iH_ / norm(iH_)\n",
    "        kH_ = np.cross(iH,  -(p1R + p2R) / 2)\n",
    "        kH = kH_ / norm(kH_)\n",
    "        jH_ = np.cross(iH, kH)\n",
    "        jH = jH_ / norm(jH_)\n",
    "        #linear transformation from hyperbola axes\n",
    "        #to reduced 2D space\n",
    "        if lH >= 0: f2R = iH * xH + jH * yH + (p1R + p2R) / 2\n",
    "        else: f2R = iH * xH - jH * yH + (p1R + p2R) / 2\n",
    "\n",
    "        #compute elliptical orbit parameters\n",
    "        aE = (norm(p1R) + norm(p1R - f2R)) / 2\n",
    "        cE = norm(f2R) / 2\n",
    "        bE = np.sqrt(aE**2 - cE**2)\n",
    "        GM = ss.body_list['SUN'].const('GM', 1)\n",
    "        TE = timedelta(seconds=((4 * np.pi**2 * aE**3 / GM) ** 0.5)[0])\n",
    "\n",
    "        #compute time to transfer from p1 to p2\n",
    "        #on computed elliptical orbit\n",
    "        ctR = f2R / 2        \n",
    "        r1R = p1R - ctR\n",
    "        r2R = p2R - ctR\n",
    "        #linear transformation from reduced 2D\n",
    "        #to vector with ellipse axes as basis\n",
    "        iE = f2R / norm(f2R) * aE\n",
    "        kE_ = np.cross(iE, arr([1,1,0]))\n",
    "        kE = kE_ / norm(kE_)\n",
    "        jE_ = np.cross(iE, kE)\n",
    "        jE = jE_ / norm(jE_) * bE\n",
    "        E2R = np.transpose(arr([iE, jE, kE]))\n",
    "        R2E = np.linalg.inv(E2R)\n",
    "        r1E = np.matmul(R2E, r1R)\n",
    "        r2E = np.matmul(R2E, r2R)\n",
    "        th = np.arccos(np.sum(r1E * r2E) / norm(r1E) / norm(r2E))\n",
    "        if th > np.pi: th = np.pi - th\n",
    "        dt = th / (2*np.pi) * TE\n",
    "        \n",
    "        #compute initial and final velocities\n",
    "        v1E = np.cross(arr([0,0,1]), r1E)\n",
    "        v2E = np.cross(arr([0,0,1]), r2E)\n",
    "        v1R = np.matmul(E2R, v1E)\n",
    "        v2R = np.matmul(E2R, v2E)\n",
    "        v1 = Rinv(v1R)\n",
    "        v2 = Rinv(v2R)\n",
    "        s1 = np.sqrt(GM * (2 / norm(p1) - 1/aE))\n",
    "        s2 = np.sqrt(GM * (2 / norm(p2) - 1/aE))\n",
    "        v1 = v1 / norm(v1) * s1\n",
    "        v2 = v2 / norm(v2) * s2\n",
    "        \n",
    "        #---------------------------------------------------------------------------\n",
    "        '''\n",
    "        vp.arrow(axis=V(*(r1E*10)), color=V(1,0.8,0.8), shaftwidth=0.1)\n",
    "        vp.arrow(axis=V(*(r2E*10)), color=V(0.8,0.8,1), shaftwidth=0.1)\n",
    "        vp.arrow(pos=V(*(r1E*10)), axis=V(*(v1E*10)), color=V(1,0.8,0.8), shaftwidth=0.2)\n",
    "        vp.arrow(pos=V(*(r2E*10)), axis=V(*(v2E*10)), color=V(0.8,0.8,1), shaftwidth=0.2)\n",
    "\n",
    "        circR = vp.shapes.circle(pos=(0,0), radius=0.2)\n",
    "        pathR = vp.paths.ellipse(pos=V(0,0,0),  \n",
    "            width=10, height=10, up=V(0,0,1))\n",
    "        orbitR = vp.extrusion(path=pathR, shape=circR)'''\n",
    "        #---------------------------------------------------------------------------\n",
    "        '''\n",
    "        vp.arrow(axis=V(*(p1R*scale2)), color=V(1,0.8,0.8), shaftwidth=0.1)\n",
    "        vp.arrow(axis=V(*(p2R*scale2)), color=V(0.8,0.8,1), shaftwidth=0.1)\n",
    "        vp.arrow(pos=V(*(p1R*scale2)), axis=V(*(v1R*scale2)), color=V(1,0.8,0.8), shaftwidth=0.1)\n",
    "        vp.arrow(pos=V(*(p2R*scale2)), axis=V(*(v2R*scale2)), color=V(0.8,0.8,1), shaftwidth=0.1)\n",
    "\n",
    "        circ = vp.shapes.circle(pos=(0,0), radius=0.2)\n",
    "        path = vp.paths.ellipse(pos=V(*(ctR*scale2)),  \n",
    "                                 width=aE*scale2, height=bE*scale2, up=vp.vector(0,0,1))\n",
    "        orbit = vp.extrusion(path=path, shape=circ)\n",
    "        orbit.rotate(angle = np.arctan(f2R[1]/f2R[0]), axis=vp.vector(0,0,1))'''\n",
    "        #---------------------------------------------------------------------------\n",
    "\n",
    "        return {'dt':dt, 'aE':aE, 'cE':cE, 'bE':bE,\n",
    "                'f2':Rinv(f2R), 'v1':v1, 'v2':v2, 'TE':TE}\n",
    "    \n",
    "    '''#select a point on the hyperbola as f2 (defined by horizontal coord L)\n",
    "    #such that it defines an elliptical path taking given time T\n",
    "    lo = 0\n",
    "    hi = 5 * 10e8\n",
    "    if not elp_transfer(lo)['dt'] < T < elp_transfer(hi)['dt']:\n",
    "        return None\n",
    "    L = (lo + hi) / 2\n",
    "    dt = elp_transfer(L)['dt']\n",
    "    while abs(dt - T) > timedelta(days=1) and abs(hi-lo) > 1:\n",
    "        if T > dt:\n",
    "            lo = L\n",
    "        else:\n",
    "            hi = L\n",
    "        L = (lo + hi) / 2\n",
    "        path = elp_transfer(L)\n",
    "        dt = path['dt']\n",
    "        \n",
    "    lo = 0\n",
    "    hi = -5 * 10e8\n",
    "    L = (lo + hi) / 2\n",
    "    dt2 = elp_transfer(L)['dt']\n",
    "    if not elp_transfer(lo)['dt'] < T < elp_transfer(hi)['dt']:\n",
    "        return None\n",
    "    while abs(dt2 - T) > timedelta(days=1) and abs(hi-lo) > 1:\n",
    "        if T > dt2:\n",
    "            lo = L\n",
    "        else:\n",
    "            hi = L\n",
    "        L = (lo + hi) / 2\n",
    "        path2 = elp_transfer(L)\n",
    "        dt2 = path['dt']\n",
    "    '''\n",
    "    import matplotlib.pyplot as plt\n",
    "    lv = np.linspace(-1e8, 1e8, 1000)\n",
    "    lbts = [elp_transfer(l)['dt'].days for l in lv] \n",
    "    plt.plot(lv, lbts)\n",
    "    plt.show()\n",
    "    \n",
    "    #---------------------------------------------------------------------------\n",
    "   \n",
    "    '''aE = path['aE']\n",
    "    bE = path['bE']\n",
    "    cE = path['cE']\n",
    "    f2 = path['f2']\n",
    "    v1 = path['v1']\n",
    "    v2 = path['v2']\n",
    "    vp.sphere(pos=V(*(p1*scale)), color=V(1,0,0), radius=3)\n",
    "    vp.sphere(pos=V(*(p2*scale)), color=V(0,0,1), radius=3)\n",
    "    vp.arrow(pos=V(*(p1*scale)), axis=V(*(v1)), color=V(1,0,0), radius=3, shaftwidth=0.1)\n",
    "    vp.arrow(pos=V(*(p2*scale)), axis=V(*(v2)), color=V(0,0,1), radius=3, shaftwidth=0.1)\n",
    "\n",
    "    vp.arrow(pos=V(0,0,0), axis=V(*(i*40)), color=V(1,0,0), shaftwidth=0.1)\n",
    "    vp.arrow(pos=V(0,0,0), axis=V(*(j*40)), color=V(0,0,1), shaftwidth=0.1)\n",
    "    vp.arrow(pos=V(0,0,0), axis=V(*(k*40)), color=V(0,1,0), shaftwidth=0.1)\n",
    "\n",
    "    vp.sphere(pos=V(*(f2*scale)), radius=1, color=vp.color.orange)\n",
    "\n",
    "    circ = vp.shapes.circle(pos=(0,0), radius=0.2)\n",
    "    path = vp.paths.ellipse(pos=V(*(f2/2*scale)), \n",
    "                             width=aE*scale, height=bE*scale)\n",
    "\n",
    "    orbit = vp.extrusion(path=path, shape=circ, axis=V(*f2))   \n",
    "    up = Rinv(arr([0,0,1]))\n",
    "    orbit.up = V(*up)'''\n",
    "    #---------------------------------------------------------------------------\n",
    "        \n",
    "    \n",
    "lambert_transfer(ss.body_list['MERCURY'], ss.body_list['VENUS'], ss.time, timedelta(days=60))"
   ]
  },
  {
   "cell_type": "code",
   "execution_count": 9,
   "metadata": {},
   "outputs": [
    {
     "name": "stdout",
     "output_type": "stream",
     "text": [
      "Help on method ellipse in module vpython.shapespaths:\n",
      "\n",
      "ellipse(pos=<0, 0, 0>, width=6, height=None, np=32, thickness=None, scale=1.0, xscale=1.0, yscale=1.0, up=<0, 1, 0>) method of vpython.shapespaths.path_object instance\n",
      "\n"
     ]
    }
   ],
   "source": [
    "#---------------------------------------------------------------------------\n",
    "'''vp.arrow(axis=V(*(r1E*10)), color=V(1,0.8,0.8), shaftwidth=0.1)\n",
    "vp.arrow(axis=V(*(r2E*10)), color=V(0.8,0.8,1), shaftwidth=0.1)\n",
    "vp.arrow(pos=V(*(r1E*10)), axis=V(*(v1E*10)), color=V(1,0.8,0.8), shaftwidth=0.2)\n",
    "vp.arrow(pos=V(*(r2E*10)), axis=V(*(v2E*10)), color=V(0.8,0.8,1), shaftwidth=0.2)\n",
    "\n",
    "circR = vp.shapes.circle(pos=(0,0), radius=0.2)\n",
    "pathR = vp.paths.ellipse(pos=V(0,0,0),  \n",
    "    width=10, height=10, up=V(0,0,1))\n",
    "orbitR = vp.extrusion(path=pathR, shape=circR)'''\n",
    "#---------------------------------------------------------------------------\n",
    "'''\n",
    "vp.arrow(axis=V(*(p1R*scale2)), color=V(1,0.8,0.8), shaftwidth=0.1)\n",
    "vp.arrow(axis=V(*(p2R*scale2)), color=V(0.8,0.8,1), shaftwidth=0.1)\n",
    "vp.arrow(pos=V(*(p1R*scale2)), axis=V(*(v1R*scale2)), color=V(1,0.8,0.8), shaftwidth=0.1)\n",
    "vp.arrow(pos=V(*(p2R*scale2)), axis=V(*(v2R*scale2)), color=V(0.8,0.8,1), shaftwidth=0.1)\n",
    "\n",
    "circ = vp.shapes.circle(pos=(0,0), radius=0.2)\n",
    "path = vp.paths.ellipse(pos=V(*(ctR*scale2)),  \n",
    "                         width=aE*scale2, height=bE*scale2, up=vp.vector(0,0,1))\n",
    "orbit = vp.extrusion(path=path, shape=circ)\n",
    "orbit.rotate(angle = np.arctan(f2R[1]/f2R[0]), axis=vp.vector(0,0,1))'''\n",
    "#---------------------------------------------------------------------------\n",
    "'''vp.sphere(pos=V(*(p1*scale)), color=V(1,0,0), radius=3)\n",
    "vp.sphere(pos=V(*(p2*scale)), color=V(0,0,1), radius=3)\n",
    "vp.arrow(pos=V(*(p1*scale)), axis=V(*(v1*scale)), color=V(1,0,0), radius=3, shaftwidth=0.2)\n",
    "vp.arrow(pos=V(*(p2*scale)), axis=V(*(v2*scale)), color=V(0,0,1), radius=3, shaftwidth=0.2)\n",
    "\n",
    "vp.arrow(pos=V(0,0,0), axis=V(*(i*40)), color=V(1,0,0), shaftwidth=0.1)\n",
    "vp.arrow(pos=V(0,0,0), axis=V(*(j*40)), color=V(0,0,1), shaftwidth=0.1)\n",
    "vp.arrow(pos=V(0,0,0), axis=V(*(k*40)), color=V(0,1,0), shaftwidth=0.1)\n",
    "\n",
    "#vp.arrow(pos=V(*(p1*scale)), axis=V(*(v1n*10)))\n",
    "#vp.arrow(pos=V(*(p2*scale)), axis=V(*(v2n*10)))\n",
    "\n",
    "vp.sphere(pos=V(*(f2*scale)), radius=1, color=vp.color.orange)\n",
    "\n",
    "circ = vp.shapes.circle(pos=(0,0), radius=0.2)\n",
    "path = vp.paths.ellipse(pos=V(*Rinv(ctR*scale)), \n",
    "                         width=aE*scale, height=bE*scale)\n",
    "\n",
    "orbit = vp.extrusion(path=path, shape=circ, axis=V(*f2))   \n",
    "up = Rinv(arr([0,0,1]))\n",
    "orbit.up = V(*up)'''\n",
    "#---------------------------------------------------------------------------"
   ]
  },
  {
   "cell_type": "code",
   "execution_count": 6,
   "metadata": {},
   "outputs": [
    {
     "data": {
      "image/png": "[encoded data removed]",
      "text/plain": [
       "<Figure size 432x288 with 1 Axes>"
      ]
     },
     "metadata": {
      "needs_background": "light"
     },
     "output_type": "display_data"
    }
   ],
   "source": [
    "import matplotlib.pyplot as plt\n",
    "lv = np.linspace(0, 1e8, 1000)\n",
    "lbts = [elp_transfer(l)['dt'].days for l in lv] \n",
    "plt.plot(lv, lbts)\n",
    "plt.show()\n",
    "\n",
    "#path = elp_transfer(0.1*10e7)\n",
    "#print(path['dt'].days)"
   ]
  }
 ],
 "metadata": {
  "kernelspec": {
   "display_name": "Python 3",
   "language": "python",
   "name": "python3"
  },
  "language_info": {
   "codemirror_mode": {
    "name": "ipython",
    "version": 3
   },
   "file_extension": ".py",
   "mimetype": "text/x-python",
   "name": "python",
   "nbconvert_exporter": "python",
   "pygments_lexer": "ipython3",
   "version": "3.7.1"
  }
 },
 "nbformat": 4,
 "nbformat_minor": 2
}
