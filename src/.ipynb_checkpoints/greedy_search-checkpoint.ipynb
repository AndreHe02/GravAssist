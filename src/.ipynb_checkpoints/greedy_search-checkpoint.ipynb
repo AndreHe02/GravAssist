{
 "cells": [
  {
   "cell_type": "code",
   "execution_count": 132,
   "metadata": {},
   "outputs": [
    {
     "name": "stdout",
     "output_type": "stream",
     "text": [
      "[3.141579442999297, -4.7124023868414096] -0.9999999998228736\n"
     ]
    }
   ],
   "source": [
    "import random\n",
    "import numpy as np\n",
    "\n",
    "#walk steepest path down to local minima\n",
    "def greedy_descent(f, ranges, steps):\n",
    "    #random initialization\n",
    "    p = [lo + (hi-lo) * random.random() for lo, hi in ranges]\n",
    "    min_f_yet = f(*p)\n",
    "    k = len(ranges)\n",
    "    flat = 0\n",
    "    while flat < 10:\n",
    "        min_f, next_p = None, None       \n",
    "        for idx in range(pow(3, k)):\n",
    "            new_p = p[:]\n",
    "            for j in range(k):\n",
    "                sign, idx = idx % 3, idx // 3\n",
    "                new_p[j] += (sign-1) * steps[j]\n",
    "                new_p[j] = max(ranges[j][0], min(ranges[j][1], new_p[j]))\n",
    "            val_f = f(*new_p)\n",
    "            if (min_f == None) or val_f < min_f: min_f, next_p = val_f, new_p            \n",
    "        if min_f > min_f_yet: return p\n",
    "        elif min_f == min_f_yet: flat += 1\n",
    "        min_f_yet, p = min_f, next_p\n",
    "    return p\n",
    "\n",
    "#descent in decaying step sizes,\n",
    "#giving increasingly accurate result\n",
    "def greedy_minimize(f, ranges, steps, iters=1, decay_factor=5):\n",
    "    ranges = np.array(ranges)\n",
    "    steps = np.array(steps)\n",
    "    p = greedy_descent(f, ranges, steps)\n",
    "    for _ in range(iters):\n",
    "        upper = p + (ranges[:, 1] - ranges[:, 0]) / decay_factor\n",
    "        lower = p - (ranges[:, 1] - ranges[:, 0]) / decay_factor\n",
    "        ranges = np.array([x for x in zip(lower, upper)])\n",
    "        steps = steps / decay_factor\n",
    "        p = greedy_descent(f, ranges, steps)\n",
    "    return p\n",
    "        \n",
    "import numpy as np\n",
    "f = lambda x, y: np.cos(x) * np.sin(y)\n",
    "res = greedy_minimize(f, [[-10, 10], [-10, 10]], [0.1, 0.1], iters=5)\n",
    "print(res, f(*res))"
   ]
  },
  {
   "cell_type": "code",
   "execution_count": 2,
   "metadata": {},
   "outputs": [
    {
     "data": {
      "text/plain": [
       "[[0, 0, 0],\n",
       " [1, 0, 0],\n",
       " [0, 1, 0],\n",
       " [1, 1, 0],\n",
       " [0, 0, 1],\n",
       " [1, 0, 1],\n",
       " [0, 1, 1],\n",
       " [1, 1, 1]]"
      ]
     },
     "execution_count": 2,
     "metadata": {},
     "output_type": "execute_result"
    }
   ],
   "source": [
    "b = []\n",
    "for idx_ in range(pow(2, 3)):\n",
    "    idx = idx_\n",
    "    s = []\n",
    "    for _ in range(3):\n",
    "        j = idx % 2\n",
    "        idx = idx // 2\n",
    "        s.append(j)\n",
    "    b.append(s)\n",
    "b"
   ]
  }
 ],
 "metadata": {
  "kernelspec": {
   "display_name": "Python 3",
   "language": "python",
   "name": "python3"
  },
  "language_info": {
   "codemirror_mode": {
    "name": "ipython",
    "version": 3
   },
   "file_extension": ".py",
   "mimetype": "text/x-python",
   "name": "python",
   "nbconvert_exporter": "python",
   "pygments_lexer": "ipython3",
   "version": "3.7.4"
  }
 },
 "nbformat": 4,
 "nbformat_minor": 2
}
