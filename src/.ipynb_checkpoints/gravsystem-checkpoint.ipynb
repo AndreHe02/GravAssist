{
 "cells": [
  {
   "cell_type": "code",
   "execution_count": 1,
   "metadata": {
    "scrolled": true
   },
   "outputs": [
    {
     "data": {
      "text/html": [
       "<div id=\"glowscript\" class=\"glowscript\"></div>"
      ],
      "text/plain": [
       "<IPython.core.display.HTML object>"
      ]
     },
     "metadata": {},
     "output_type": "display_data"
    },
    {
     "data": {
      "application/javascript": [
       "if (typeof Jupyter !== \"undefined\") { window.__context = { glowscript_container: $(\"#glowscript\").removeAttr(\"id\")};}else{ element.textContent = ' ';}"
      ],
      "text/plain": [
       "<IPython.core.display.Javascript object>"
      ]
     },
     "metadata": {},
     "output_type": "display_data"
    },
    {
     "ename": "IndexError",
     "evalue": "list index out of range",
     "output_type": "error",
     "traceback": [
      "\u001b[1;31m---------------------------------------------------------------------------\u001b[0m",
      "\u001b[1;31mIndexError\u001b[0m                                Traceback (most recent call last)",
      "\u001b[1;32m<ipython-input-1-8d22058e4044>\u001b[0m in \u001b[0;36m<module>\u001b[1;34m\u001b[0m\n\u001b[0;32m     26\u001b[0m \u001b[0mephemeris\u001b[0m \u001b[1;33m=\u001b[0m \u001b[0mephemeris\u001b[0m\u001b[1;33m(\u001b[0m\u001b[0msp\u001b[0m\u001b[1;33m,\u001b[0m \u001b[1;34m'C:/Users/HP/GravAssist'\u001b[0m\u001b[1;33m)\u001b[0m\u001b[1;33m\u001b[0m\u001b[1;33m\u001b[0m\u001b[0m\n\u001b[0;32m     27\u001b[0m ss = gravsystem(ephemeris, datetime.today(), body_name_list=SOLAR_SYSTEM,\n\u001b[1;32m---> 28\u001b[1;33m                 barycenter_list=BARYCENTERS, colors=COLORS, rel_vradii=REL_VRADII)\n\u001b[0m\u001b[0;32m     29\u001b[0m \u001b[0mscene\u001b[0m \u001b[1;33m=\u001b[0m \u001b[0mvp\u001b[0m\u001b[1;33m.\u001b[0m\u001b[0mcanvas\u001b[0m\u001b[1;33m(\u001b[0m\u001b[0mtitle\u001b[0m\u001b[1;33m=\u001b[0m\u001b[1;34m'3D scene'\u001b[0m\u001b[1;33m)\u001b[0m\u001b[1;33m\u001b[0m\u001b[1;33m\u001b[0m\u001b[0m\n",
      "\u001b[1;32m~\\GravAssist\\src\\gravsystem.py\u001b[0m in \u001b[0;36m__init__\u001b[1;34m(self, ephemeris, t0, body_name_list, barycenter_list, colors, rel_vradii)\u001b[0m\n\u001b[0;32m     19\u001b[0m         \u001b[0mself\u001b[0m\u001b[1;33m.\u001b[0m\u001b[0mbody_list\u001b[0m \u001b[1;33m=\u001b[0m \u001b[1;33m{\u001b[0m\u001b[1;33m}\u001b[0m\u001b[1;33m\u001b[0m\u001b[1;33m\u001b[0m\u001b[0m\n\u001b[0;32m     20\u001b[0m         \u001b[1;32mfor\u001b[0m \u001b[0mi\u001b[0m\u001b[1;33m,\u001b[0m \u001b[0mbody_name\u001b[0m \u001b[1;32min\u001b[0m \u001b[0menumerate\u001b[0m\u001b[1;33m(\u001b[0m\u001b[0mbody_name_list\u001b[0m\u001b[1;33m)\u001b[0m\u001b[1;33m:\u001b[0m\u001b[1;33m\u001b[0m\u001b[1;33m\u001b[0m\u001b[0m\n\u001b[1;32m---> 21\u001b[1;33m             \u001b[0mbody\u001b[0m \u001b[1;33m=\u001b[0m \u001b[0mephemeris\u001b[0m\u001b[1;33m.\u001b[0m\u001b[0mget_body\u001b[0m\u001b[1;33m(\u001b[0m\u001b[0mbody_name\u001b[0m\u001b[1;33m,\u001b[0m \u001b[0mBARYCENTERS\u001b[0m\u001b[1;33m[\u001b[0m\u001b[0mi\u001b[0m\u001b[1;33m]\u001b[0m\u001b[1;33m)\u001b[0m\u001b[1;33m\u001b[0m\u001b[1;33m\u001b[0m\u001b[0m\n\u001b[0m\u001b[0;32m     22\u001b[0m             \u001b[0mbody\u001b[0m\u001b[1;33m.\u001b[0m\u001b[0mset_visuals\u001b[0m\u001b[1;33m(\u001b[0m\u001b[0mrel_vradii\u001b[0m\u001b[1;33m[\u001b[0m\u001b[0mi\u001b[0m\u001b[1;33m]\u001b[0m\u001b[1;33m,\u001b[0m \u001b[0mcolors\u001b[0m\u001b[1;33m[\u001b[0m\u001b[0mi\u001b[0m\u001b[1;33m]\u001b[0m\u001b[1;33m,\u001b[0m \u001b[1;32mTrue\u001b[0m\u001b[1;33m)\u001b[0m\u001b[1;33m\u001b[0m\u001b[1;33m\u001b[0m\u001b[0m\n\u001b[0;32m     23\u001b[0m             \u001b[0mself\u001b[0m\u001b[1;33m.\u001b[0m\u001b[0mbody_list\u001b[0m\u001b[1;33m[\u001b[0m\u001b[0mbody_name\u001b[0m\u001b[1;33m]\u001b[0m \u001b[1;33m=\u001b[0m \u001b[0mbody\u001b[0m\u001b[1;33m\u001b[0m\u001b[1;33m\u001b[0m\u001b[0m\n",
      "\u001b[1;31mIndexError\u001b[0m: list index out of range"
     ]
    }
   ],
   "source": [
    "from datetime import timedelta\n",
    "from spice.ephemeris import ephemeris\n",
    "import spiceypy as sp\n",
    "from datetime import datetime\n",
    "from gravsystem import gravsystem\n",
    "from passive_body import passive_body\n",
    "import vpython as vp\n",
    "\n",
    "SOLAR_SYSTEM = ['SUN', 'MERCURY', 'VENUS', 'EARTH', 'MARS', 'JUPITER', 'SATURN', 'URANUS', 'NEPTUNE', 'PLUTO', 'MOON']\n",
    "BARYCENTERS = ['SOLAR SYSTEM BARYCENTER', None, None, None, None, None, None, None, None, None, 'MOON'] \n",
    "COLORS = [vp.color.orange, vp.color.gray(0.5), vp.color.yellow, \n",
    "          vp.color.blue, vp.color.red, vp.color.yellow, \n",
    "          vp.color.yellow, vp.color.green, vp.color.blue, \n",
    "          vp.color.gray(0.5), vp.color.gray(0.5)]\n",
    "#just for graphics, not to scale\n",
    "REL_VRADII = [10, 10, 10, 0.07, 10, 20, 30, 50, 50, 50, 0.02]\n",
    "\n",
    "def timeflow(real_duration, animation_duration, frame_rate):\n",
    "    total_frames = animation_duration * frame_rate\n",
    "    real_frame_period = real_duration / total_frames\n",
    "    for _ in range(total_frames):\n",
    "        vp.rate(frame_rate)\n",
    "        ss.draw()\n",
    "        ss.update(real_frame_period)\n",
    "\n",
    "ephemeris = ephemeris(sp, 'C:/Users/HP/GravAssist')\n",
    "ss = gravsystem(ephemeris, datetime.today(), body_name_list=SOLAR_SYSTEM,\n",
    "                barycenter_list=BARYCENTERS, colors=COLORS, rel_vradii=REL_VRADII)\n",
    "scene = vp.canvas(title='3D scene')"
   ]
  },
  {
   "cell_type": "code",
   "execution_count": 5,
   "metadata": {},
   "outputs": [],
   "source": [
    "timeflow(timedelta(days=30), 30, 100)"
   ]
  },
  {
   "cell_type": "code",
   "execution_count": 2,
   "metadata": {},
   "outputs": [],
   "source": [
    "moon = ephemeris.get_body('MOON', barycenter_name='MOON')\n",
    "moonobj = passive_body('moon', \n",
    "                 moon.pos(datetime.today()),\n",
    "                 moon.vel(datetime.today()))\n",
    "moonobj.set_visuals(0.02, vp.color.purple, True)\n",
    "ss.add_passive_body(moonobj)"
   ]
  },
  {
   "cell_type": "code",
   "execution_count": 4,
   "metadata": {},
   "outputs": [],
   "source": [
    "scene.camera.follow(ss.body_list['EARTH'].visual)"
   ]
  },
  {
   "cell_type": "code",
   "execution_count": 8,
   "metadata": {},
   "outputs": [],
   "source": [
    "ss.body_list['EARTH'].set_visuals(0.7, vp.color.blue, make_trail=True)\n",
    "moonobj.set_visuals(0.02, vp.color.purple, True)"
   ]
  }
 ],
 "metadata": {
  "kernelspec": {
   "display_name": "Python 3",
   "language": "python",
   "name": "python3"
  }
 },
 "nbformat": 4,
 "nbformat_minor": 2
}
