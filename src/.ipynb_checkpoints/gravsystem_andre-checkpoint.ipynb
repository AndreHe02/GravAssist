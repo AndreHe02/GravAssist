{
 "cells": [
  {
   "cell_type": "code",
   "execution_count": 1,
   "metadata": {
    "scrolled": false
   },
   "outputs": [
    {
     "data": {
      "text/html": [
       "<div id=\"glowscript\" class=\"glowscript\"></div>"
      ],
      "text/plain": [
       "<IPython.core.display.HTML object>"
      ]
     },
     "metadata": {},
     "output_type": "display_data"
    },
    {
     "data": {
      "application/javascript": [
       "if (typeof Jupyter !== \"undefined\") { window.__context = { glowscript_container: $(\"#glowscript\").removeAttr(\"id\")};}else{ element.textContent = ' ';}"
      ],
      "text/plain": [
       "<IPython.core.display.Javascript object>"
      ]
     },
     "metadata": {},
     "output_type": "display_data"
    },
    {
     "data": {
      "text/html": [
       "<div id=\"glowscript\" class=\"glowscript\"></div>"
      ],
      "text/plain": [
       "<IPython.core.display.HTML object>"
      ]
     },
     "metadata": {},
     "output_type": "display_data"
    },
    {
     "data": {
      "application/javascript": [
       "if (typeof Jupyter !== \"undefined\") { window.__context = { glowscript_container: $(\"#glowscript\").removeAttr(\"id\")};}else{ element.textContent = ' ';}"
      ],
      "text/plain": [
       "<IPython.core.display.Javascript object>"
      ]
     },
     "metadata": {},
     "output_type": "display_data"
    },
    {
     "data": {
      "application/javascript": [
       "if (typeof Jupyter !== \"undefined\") {require.undef(\"nbextensions/vpython_libraries/glow.min\");}else{element.textContent = ' ';}"
      ],
      "text/plain": [
       "<IPython.core.display.Javascript object>"
      ]
     },
     "metadata": {},
     "output_type": "display_data"
    },
    {
     "data": {
      "application/javascript": [
       "if (typeof Jupyter !== \"undefined\") {require.undef(\"nbextensions/vpython_libraries/glowcomm\");}else{element.textContent = ' ';}"
      ],
      "text/plain": [
       "<IPython.core.display.Javascript object>"
      ]
     },
     "metadata": {},
     "output_type": "display_data"
    },
    {
     "data": {
      "application/javascript": [
       "if (typeof Jupyter !== \"undefined\") {require.undef(\"nbextensions/vpython_libraries/jquery-ui.custom.min\");}else{element.textContent = ' ';}"
      ],
      "text/plain": [
       "<IPython.core.display.Javascript object>"
      ]
     },
     "metadata": {},
     "output_type": "display_data"
    },
    {
     "data": {
      "application/javascript": [
       "if (typeof Jupyter !== \"undefined\") {require([\"nbextensions/vpython_libraries/glow.min\"], function(){console.log(\"GLOW LOADED\");});}else{element.textContent = ' ';}"
      ],
      "text/plain": [
       "<IPython.core.display.Javascript object>"
      ]
     },
     "metadata": {},
     "output_type": "display_data"
    },
    {
     "data": {
      "application/javascript": [
       "if (typeof Jupyter !== \"undefined\") {require([\"nbextensions/vpython_libraries/glowcomm\"], function(){console.log(\"GLOWCOMM LOADED\");});}else{element.textContent = ' ';}"
      ],
      "text/plain": [
       "<IPython.core.display.Javascript object>"
      ]
     },
     "metadata": {},
     "output_type": "display_data"
    },
    {
     "data": {
      "application/javascript": [
       "if (typeof Jupyter !== \"undefined\") {require([\"nbextensions/vpython_libraries/jquery-ui.custom.min\"], function(){console.log(\"JQUERY LOADED\");});}else{element.textContent = ' ';}"
      ],
      "text/plain": [
       "<IPython.core.display.Javascript object>"
      ]
     },
     "metadata": {},
     "output_type": "display_data"
    }
   ],
   "source": [
    "from datetime import timedelta\n",
    "from SPICE.ephemeris import ephemeris\n",
    "import spiceypy as sp\n",
    "from datetime import datetime\n",
    "from gravsystem import gravsystem\n",
    "from passive_body import passive_body\n",
    "import vpython as vp\n",
    "from config.parse_config import parse_config\n",
    "\n",
    "def timeflow(real_duration, animation_duration, frame_rate):\n",
    "    total_frames = animation_duration * frame_rate\n",
    "    real_frame_period = real_duration / total_frames\n",
    "    for _ in range(total_frames):\n",
    "        vp.rate(frame_rate)\n",
    "        ss.draw()\n",
    "        ss.update(real_frame_period)\n",
    "        \n",
    "class dotdict(dict):\n",
    "    \"\"\"modified from https://stackoverflow.com/questions/2352181\"\"\"\n",
    "    \"\"\"dot.notation access to dictionary attributes\"\"\"\n",
    "    def __getattr__(*args): \n",
    "        val = dict.get(*args)\n",
    "        return dotdict(val) if type(val) is dict else val\n",
    "  \n",
    "    def __getitem__(*args):\n",
    "        val = dict.get(*args)\n",
    "        return dotdict(val) if type(val) is dict else val\n",
    "        \n",
    "    __setattr__ = dict.__setitem__\n",
    "    __delattr__ = dict.__delitem__\n",
    "\n",
    "\n",
    "config = parse_config('C:/Users/andre/Desktop/GravAssist/src/config/config.json')\n",
    "now = datetime.today()\n",
    "ephemeris = ephemeris(sp, config)\n",
    "ss = gravsystem(config, ephemeris, now)\n",
    "scene = vp.canvas(title='3D scene')\n",
    "timeflow(timedelta(days=0), 1, 10)"
   ]
  },
  {
   "cell_type": "code",
   "execution_count": 2,
   "metadata": {},
   "outputs": [],
   "source": [
    "timeflow(timedelta(days=10000), 30, 300)"
   ]
  },
  {
   "cell_type": "code",
   "execution_count": 7,
   "metadata": {},
   "outputs": [],
   "source": [
    "import numpy as np\n",
    "planets = ['MERCURY', 'VENUS']\n",
    "snorm = np.zeros(3)\n",
    "for pname in planets:\n",
    "    p = ss.body_list[pname]\n",
    "    now = datetime.today()\n",
    "    for _ in range(1000):\n",
    "        norm = np.cross(p.pos(now), p.vel(now))\n",
    "        if norm[0] < 0: norm = -norm\n",
    "        snorm += norm\n",
    "        now += timedelta(days=50)\n",
    "        "
   ]
  },
  {
   "cell_type": "code",
   "execution_count": 8,
   "metadata": {},
   "outputs": [
    {
     "name": "stdout",
     "output_type": "stream",
     "text": [
      "[[-0.59552201 -0.74067388 -0.31105584]\n",
      " [-0.80255244  0.53139997  0.27115247]\n",
      " [ 0.03554049 -0.41111589  0.91089   ]]\n"
     ]
    }
   ],
   "source": [
    "#snorm\n",
    "\n",
    "norm = snorm/(np.linalg.norm(snorm))\n",
    "n2 = np.cross(norm, np.array([1,1,1]))\n",
    "n2 = n2 / np.linalg.norm(n2)\n",
    "n3 = np.cross(norm, n2)\n",
    "n3 = n3 / np.linalg.norm(n3)\n",
    "\n",
    "pointer = vp.arrow(pos=vp.vector(0,0,0), axis=vp.vector(*(norm*100)))\n",
    "pointer2 = vp.arrow(pos=vp.vector(0,0,0), axis=vp.vector(*(n2*100)))\n",
    "pointer3 = vp.arrow(pos=vp.vector(0,0,0), axis=vp.vector(*(n3*100)))\n",
    "\n",
    "rmt = np.array([n3, n2, norm])\n",
    "print(np.array([n3, n2, norm]))"
   ]
  },
  {
   "cell_type": "code",
   "execution_count": 4,
   "metadata": {},
   "outputs": [],
   "source": [
    "scene.camera.follow(ss.body_list['EARTH'].visual)\n"
   ]
  },
  {
   "cell_type": "code",
   "execution_count": 2,
   "metadata": {},
   "outputs": [],
   "source": [
    "mars = ephemeris.get_body(dotdict({'name':'MARS', 'barycenter':'MARS BARYCENTER'}))\n",
    "A = passive_body('A', \n",
    "                 mars.pos(now+timedelta(days=700)),\n",
    "                 1.1*mars.vel(now))\n",
    "A.set_visuals(20, vp.color.purple, True)\n",
    "ss.add_passive_body(A)\n"
   ]
  }
 ],
 "metadata": {
  "kernelspec": {
   "display_name": "Python 3",
   "language": "python",
   "name": "python3"
  },
  "language_info": {
   "codemirror_mode": {
    "name": "ipython",
    "version": 3
   },
   "file_extension": ".py",
   "mimetype": "text/x-python",
   "name": "python",
   "nbconvert_exporter": "python",
   "pygments_lexer": "ipython3",
   "version": "3.7.1"
  }
 },
 "nbformat": 4,
 "nbformat_minor": 2
}
