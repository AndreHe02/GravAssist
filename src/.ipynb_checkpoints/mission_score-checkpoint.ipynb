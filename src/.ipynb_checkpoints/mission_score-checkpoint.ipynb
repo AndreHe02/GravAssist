{
 "cells": [
  {
   "cell_type": "code",
   "execution_count": null,
   "metadata": {},
   "outputs": [],
   "source": [
    "class mission: \n",
    "    \n",
    "    def __init__(params):\n",
    "        \n",
    "        #define the mission by:\n",
    "        #-ordered list of planets\n",
    "        #-time of launch ti\n",
    "        #-time allocated for each transfer T\n",
    "        #-\"altitude\" and \"plane\" of each swingby h, ?\n",
    "        #-DSM delay after each swingby, e, fraction of T\n",
    "    \n",
    "    \n",
    "    # 1. lambert on p[0] and p[1] -> required initial dV, V final.\n",
    "    # 2. hyperbola trajectory around p[1] with h -> dV at entrance, V exit\n",
    "    # 3. analytical iter for time eT -> P final, V final\n",
    "    # 4. lambert on P final and p[2] -> required initial dV\n",
    "    \n",
    "    \n",
    "        "
   ]
  },
  {
   "cell_type": "code",
   "execution_count": null,
   "metadata": {},
   "outputs": [],
   "source": [
    "class dim_reduce:\n",
    "    def __init__()"
   ]
  }
 ],
 "metadata": {
  "kernelspec": {
   "display_name": "Python 3",
   "language": "python",
   "name": "python3"
  },
  "language_info": {
   "codemirror_mode": {
    "name": "ipython",
    "version": 3
   },
   "file_extension": ".py",
   "mimetype": "text/x-python",
   "name": "python",
   "nbconvert_exporter": "python",
   "pygments_lexer": "ipython3",
   "version": "3.7.4"
  }
 },
 "nbformat": 4,
 "nbformat_minor": 2
}
