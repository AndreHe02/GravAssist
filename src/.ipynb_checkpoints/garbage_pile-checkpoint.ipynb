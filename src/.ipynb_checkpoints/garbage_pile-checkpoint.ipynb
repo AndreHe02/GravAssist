{
 "cells": [
  {
   "cell_type": "code",
   "execution_count": 8,
   "metadata": {},
   "outputs": [
    {
     "data": {
      "text/html": [
       "<div id=\"glowscript\" class=\"glowscript\"></div>"
      ],
      "text/plain": [
       "<IPython.core.display.HTML object>"
      ]
     },
     "metadata": {},
     "output_type": "display_data"
    },
    {
     "data": {
      "application/javascript": [
       "if (typeof Jupyter !== \"undefined\") { window.__context = { glowscript_container: $(\"#glowscript\").removeAttr(\"id\")};}else{ element.textContent = ' ';}"
      ],
      "text/plain": [
       "<IPython.core.display.Javascript object>"
      ]
     },
     "metadata": {},
     "output_type": "display_data"
    }
   ],
   "source": [
    "import vpython as vp\n",
    "\n",
    "scene = vp.canvas(title='3D scene')\n",
    "\n",
    "axis1 = vp.arrow(pos=vp.vector(0,0,0), axis=vp.vector(1,0,0), color=vp.vector(0,0,1))\n",
    "axis2 = vp.arrow(pos=vp.vector(0,0,0), axis=vp.vector(0,1,0), color=vp.vector(0,1,0))\n",
    "axis3 = vp.arrow(pos=vp.vector(0,0,0), axis=vp.vector(0,0,1), color=vp.vector(1,0,0))\n",
    "circ = vp.shapes.circle(pos=(0,0), radius=0.2)\n",
    "orbit = vp.paths.ellipse(width=5, height=3, up=vp.vector(0,1,1))\n",
    "figure = vp.extrusion(path=orbit, shape=circ)"
   ]
  },
  {
   "cell_type": "code",
   "execution_count": null,
   "metadata": {},
   "outputs": [],
   "source": [
    "import numpy as np\n",
    "m = np.array([[-0.58375424, -0.74794831, -0.3159182 ],\n",
    " [-0.80877596,  0.50139873,  0.30737723],\n",
    " [ 0.07150129, -0.4349398,   0.89761625]])\n",
    "rmt = np.linalg.inv(np.transpose(m))\n",
    "scale = 1/(10**6)\n",
    "scale2 = 1/(10**7)\n",
    "\n",
    "def lambert_transfer(bd1, bd2, t0, T, l=0):\n",
    "    #assume center of gravity (sun) at origin\n",
    "    p1_ = bd1.state(t0)[:3]\n",
    "    p2_ = bd2.state(t0+T)[:3]\n",
    "    \n",
    "    \n",
    "    p1 = np.matmul(rmt, p1_)\n",
    "    p2 = np.matmul(rmt, p2_)\n",
    "    \n",
    "    a = abs(np.linalg.norm(p2) - np.linalg.norm(p1))/2\n",
    "    d = np.linalg.norm(p2 - p1) / 2\n",
    "    b = (d**2 - a**2) ** 0.5\n",
    "    \n",
    "    f1 = np.array([0, 0, 0])\n",
    "    x = a + l\n",
    "    y = b * (x**2/a**2 - 1)**0.5\n",
    "    s = (p2 - p1) / d / 2\n",
    "    refs = np.cross(s, f1 - (p1+p2)/2)\n",
    "    sn = np.array([s[1], -s[0], s[2]])\n",
    "    refsn = np.cross(sn, f1 - (p1+p2)/2)\n",
    "    if np.sign(refs[2]) != np.sign(refsn[2]):\n",
    "        sn = np.array([-s[1], s[0], s[2]])\n",
    "    f2 = s * x + sn * y + (p1 + p2)/2\n",
    "    \n",
    "    ae = (np.linalg.norm(p1) + np.linalg.norm(p1 - f2)) / 2\n",
    "    c = np.linalg.norm(f2 - f1) / 2\n",
    "    be = (ae**2 - c**2) ** 0.5\n",
    "    GM = ss.body_list['SUN'].const('GM', 1)\n",
    "    Te = timedelta(seconds=((4 * np.pi**2 * ae**3 / GM) ** 0.5)[0])\n",
    "    \n",
    "    def proj(v1, onto):\n",
    "        return abs(np.sum(v1 * onto) / np.linalg.norm(onto))\n",
    "    \n",
    "    ctr = (f1 + f2) / 2\n",
    "    r1 = p1 - ctr\n",
    "    r2 = p2 - ctr\n",
    "    cos1 = proj(r1, f2 - f1) / ae\n",
    "    cos2 = proj(r2, f2 - f1) / ae\n",
    "    th1 = np.arccos(cos1)\n",
    "    th2 = np.arccos(cos2)\n",
    "    th = np.pi - th1 - th2\n",
    "\n",
    "    dt = th / (2*np.pi) * Te\n",
    "    \n",
    "     #drawing stuff\n",
    "    \"\"\"\n",
    "    vp.arrow(pos=vp.vector(0,0,0), axis=vp.vector(3,0,0))\n",
    "    vp.arrow(pos=vp.vector(0,0,0), axis=vp.vector(0,3,0))\n",
    "    vp.arrow(pos=vp.vector(0,0,0), axis=vp.vector(0,0,3))\n",
    "    vp.sphere(pos=vp.vector(*(p2_ * scale)), radius=1,  color=vp.vector(1,0,0))\n",
    "    vp.sphere(pos=vp.vector(*(p1 * scale2)), radius=1,  color=vp.vector(0,0,1))\n",
    "    vp.sphere(pos=vp.vector(*(p2 * scale2)), radius=1,  color=vp.vector(0,1,0))\n",
    "    vp.sphere(pos=vp.vector(*(f2 * scale2)), radius=1,  color=vp.color.orange)\n",
    "    \n",
    "    circ = vp.shapes.circle(pos=(0,0), radius=0.2)\n",
    "    path = vp.paths.ellipse(pos=vp.vector(*(ctr*scale2)),  \n",
    "                             width=ae*scale2, height=be*scale2, up=vp.vector(0,0,1))\n",
    "    orbit = vp.extrusion(path=path, shape=circ)\n",
    "    orbit.rotate(angle = np.arctan(f2[1]/f2[0]), axis=vp.vector(0,0,1))\n",
    "    \"\"\"\n",
    "  \n",
    "    \"\"\"\n",
    "    org = lambda x: np.matmul(np.linalg.inv(rmt), x)\n",
    "    vp.sphere(pos=vp.vector(*(p2_ * scale)), radius=1,  color=vp.vector(1,0,0))\n",
    "    circ = vp.shapes.circle(pos=(0,0), radius=0.2)\n",
    "    path = vp.paths.ellipse(pos=vp.vector(*org(ctr*scale)), \n",
    "                             width=ae*scale, height=be*scale) #+ vp.paths.rectangle(\n",
    "        #width=10, height=10, up=vp.vector(*org(np.array([0,0,1]))))\n",
    "    orbit = vp.extrusion(path=path, shape=circ)\n",
    "        \n",
    "    of2 = org(f2)\n",
    "    vp.sphere(pos=vp.vector(*(of2*scale)), radius=1, color=vp.color.orange)\n",
    "    vp.arrow(pos=vp.vector(0,0,0), axis=vp.vector(*(of2*scale)), shaftwidth=0.2)\n",
    "    \n",
    "    def rad_btwn(v1, v2):\n",
    "        return np.arccos(np.sum(v1 * v2) / np.linalg.norm(v1) / np.linalg.norm(v2))\n",
    "    \n",
    "    vp.arrow(pos=vp.vector(0,0,0), axis=vp.vector(10, 0, 0), color=vp.vector(1,0,0))\n",
    "    vp.arrow(pos=vp.vector(0,0,0), axis=vp.vector(0, 10, 0), color=vp.vector(0,1,0))\n",
    "    vp.arrow(pos=vp.vector(0,0,0), axis=vp.vector(0, 0, 10), color=vp.vector(0,0,1))\n",
    "    \n",
    "    vp.arrow(pos=vp.vector(0,0,0), axis=vp.vector(*org(np.array([0, 0, 10]))))\n",
    "    \n",
    "    orbit.rotate(angle = rad_btwn(of2, np.array([1,0,0])), axis=vp.vector(0,0,1))\n",
    "    norm = np.array([orbit.up.x, orbit.up.y, orbit.up.z])\n",
    "    orbit.rotate(angle = rad_btwn(norm, org(np.array([0,0,1]))), axis=vp.vector(*of2))\n",
    "    \"\"\"\n",
    "    \n",
    "    #vp.box(pos=vp.vector(0,0,0), up=vp.vector(*org(np.array([0,0,1]))), length=200, width=200, height=0.1)\n",
    "    \n",
    "    \n",
    "    #vp.arrow(pos=vp.vector(0,0,0), axis=vp.vector(*org(np.array((10, 0, 0)))))\n",
    "    #vp.arrow(pos=vp.vector(0,0,0), axis=vp.vector(*org(np.array((0, 10, 0)))))\n",
    "    \n",
    "    #rad = rad_btwn(of2, np.array([-1, 0, 0]))\n",
    "    #print(rad)\n",
    "    #orbit.rotate(angle = -rad, axis=vp.vector(*org(np.array([0,0,1]))))\n",
    "    "
   ]
  },
  {
   "cell_type": "code",
   "execution_count": null,
   "metadata": {},
   "outputs": [],
   "source": [
    "vp.arrow(pos=V(0,0,0), axis=V(*(p1R*scale2)), color=V(1,0.5,0.5))\n",
    "vp.arrow(pos=V(0,0,0), axis=V(*(p2R*scale2)), color=V(0.5,0.5,1))\n",
    "\n",
    "circR = vp.shapes.circle(pos=(0,0), radius=0.2)\n",
    "pathR = vp.paths.ellipse(pos=V(*(ctR*scale2)),  \n",
    "    width=aeR*scale2, height=beR*scale2, up=V(0,0,1))\n",
    "\n",
    "orbitR = vp.extrusion(path=pathR, shape=circR)\n",
    "orbitR.rotate(angle = np.arctan(f2R[1]/f2R[0]), axis=V(0,0,1))"
   ]
  },
  {
   "cell_type": "code",
   "execution_count": null,
   "metadata": {},
   "outputs": [],
   "source": [
    "\"\"\"\n",
    "\n",
    "sin1 = (1 - cos1**2) **0.5\n",
    "sin2 = (1 - cos2**2) **0.5\n",
    "#velocity direction with ellipse's axes as basis\n",
    "v1f = arr([sin1 * ae, -cos1 * be])\n",
    "v2f = arr([sin2 * ae, cos2 * be])\n",
    "v1f = v1f / norm(v1f)\n",
    "v2f = v2f / norm(v2f)\n",
    "\n",
    "ctRn = ctR / norm(ctR)\n",
    "ref = np.cross(ctRn, p1R)\n",
    "ctRp = arr([-ctRn[1], ctRn[0], ctRn[2]])\n",
    "refc = np.cross(ctRn, ctRp)\n",
    "#positive x points away from p1\n",
    "if np.sign(ref[2]) == np.sign(refc[2]):\n",
    "    ctRp = -ctRp\n",
    "#convert back to regular basis in reduced R2 space\n",
    "v1R = v1f[0] * ctRn + v1f[1] * ctRp \n",
    "v2R = v2f[0] * ctRn + v2f[1] * ctRp \n",
    "#convert back to regular basis in R3\n",
    "v1n = Minv(v1R)\n",
    "v2n = Minv(v2R)\n",
    "\"\"\""
   ]
  }
 ],
 "metadata": {
  "kernelspec": {
   "display_name": "Python 3",
   "language": "python",
   "name": "python3"
  },
  "language_info": {
   "codemirror_mode": {
    "name": "ipython",
    "version": 3
   },
   "file_extension": ".py",
   "mimetype": "text/x-python",
   "name": "python",
   "nbconvert_exporter": "python",
   "pygments_lexer": "ipython3",
   "version": "3.7.1"
  }
 },
 "nbformat": 4,
 "nbformat_minor": 2
}
