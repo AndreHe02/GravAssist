{
 "cells": [
  {
   "cell_type": "code",
   "execution_count": null,
   "metadata": {},
   "outputs": [],
   "source": [
    "SOLAR_SYSTEM = ['SUN', 'MERCURY', 'VENUS', 'EARTH', 'MARS', 'JUPYTER', 'SATURN', 'URANUS', 'NEPTUNE', 'PLATO']\n",
    "\n",
    "class gravsystem:\n",
    "    def __init__(self, ephemeris, body_name_list=SOLAR_SYSTEM):\n",
    "            #planets and stars that move by set orbits\n",
    "            self.body_list = []\n",
    "            for body_name in body_name_list:\n",
    "                self.body_list.append(ephemeris.get_body(body_name))\n",
    "            #manmade bodies affected by gravity\n",
    "            self.passive_body_list = []\n",
    "    \n",
    "    def add_passive_body(passive_body):\n",
    "        self.passive_body_list.append(passive_body)\n",
    "    \n",
    "    def visualize(self):\n",
    "        return\n",
    "    \n",
    "    "
   ]
  }
 ],
 "metadata": {
  "kernelspec": {
   "display_name": "Python 3",
   "language": "python",
   "name": "python3"
  },
  "language_info": {
   "codemirror_mode": {
    "name": "ipython",
    "version": 3
   },
   "file_extension": ".py",
   "mimetype": "text/x-python",
   "name": "python",
   "nbconvert_exporter": "python",
   "pygments_lexer": "ipython3",
   "version": "3.7.4"
  }
 },
 "nbformat": 4,
 "nbformat_minor": 2
}
