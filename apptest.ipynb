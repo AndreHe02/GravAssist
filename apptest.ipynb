{
 "cells": [
  {
   "cell_type": "code",
   "execution_count": 1,
   "metadata": {},
   "outputs": [
    {
     "data": {
      "text/html": [
       "<div id=\"glowscript\" class=\"glowscript\"></div>"
      ],
      "text/plain": [
       "<IPython.core.display.HTML object>"
      ]
     },
     "metadata": {},
     "output_type": "display_data"
    },
    {
     "data": {
      "application/javascript": [
       "if (typeof Jupyter !== \"undefined\") { window.__context = { glowscript_container: $(\"#glowscript\").removeAttr(\"id\")};}else{ element.textContent = ' ';}"
      ],
      "text/plain": [
       "<IPython.core.display.Javascript object>"
      ]
     },
     "metadata": {},
     "output_type": "display_data"
    }
   ],
   "source": [
    "#from app import calculatePath\n",
    "from datetime import datetime, timedelta\n",
    "from src.SPICE.ephemeris import ephemeris\n",
    "from src.traj import trajectory\n",
    "import spiceypy as sp\n",
    "import numpy as np\n",
    "import os\n",
    "\n",
    "ephem = ephemeris(sp, 'C:/Users/HP/Desktop/GravAssist')\n",
    "earth = ephem.get_body('EARTH')\n",
    "mars = ephem.get_body('MARS')\n",
    "jupiter = ephem.get_body('JUPITER')\n",
    "neptune = ephem.get_body('NEPTUNE')\n",
    "sun = ephem.get_body('SUN')\n",
    "venus = ephem.get_body('VENUS')\n",
    "#res = sorted_transfers(earth, mars, datetime.now(), datetime.now()+timedelta(days=365), ephem.get_body('SUN').Gmass[0])"
   ]
  },
  {
   "cell_type": "code",
   "execution_count": 11,
   "metadata": {},
   "outputs": [],
   "source": [
    "res = calculatePath(earth, mars, datetime.now(), datetime.now()+timedelta(days=365*100), ephem.get_body('SUN'))"
   ]
  },
  {
   "cell_type": "code",
   "execution_count": 15,
   "metadata": {},
   "outputs": [
    {
     "data": {
      "text/plain": [
       "27.995839604840178"
      ]
     },
     "execution_count": 15,
     "metadata": {},
     "output_type": "execute_result"
    }
   ],
   "source": [
    "res[0].deltaV"
   ]
  },
  {
   "cell_type": "code",
   "execution_count": 55,
   "metadata": {},
   "outputs": [
    {
     "name": "stdout",
     "output_type": "stream",
     "text": [
      "8.672824599999785\n",
      "17.630401899999924\n"
     ]
    }
   ],
   "source": [
    "from src.lambert import *\n",
    "from datetime import datetime, timedelta\n",
    "from src.optimize import *\n",
    "\n",
    "\n",
    "\n",
    "def direct_transfer_cost(body1, body2, t0, T, GM):\n",
    "    s1 = body1.state(t0)\n",
    "    s2 = body2.state(t0+T)\n",
    "    p1, v1 = s1[:3], s1[3:]\n",
    "    p2, v2 = s2[:3], s2[3:]\n",
    "    sols = lambert_transfer(p1, p2, T, GM, prec=1e2)\n",
    "    dVmin, res = None, None\n",
    "    for sol in sols:\n",
    "        v0, vf = sol['v1'], sol['v2']\n",
    "        dV = np.linalg.norm(v0-v1) + np.linalg.norm(vf-v2)\n",
    "        if not dVmin or dV < dVmin: dVmin, res = dV, sol\n",
    "    return dVmin, res\n",
    "\n",
    "earliest, latest = datetime.now(), datetime.now() + timedelta(days=300)\n",
    "\n",
    "GM = ephem.get_body('SUN').const('GM', 1)[0]\n",
    "F = lambda t0, T: direct_transfer(earth, mars, t0, T, GM)[0]\n",
    "C = lambda t0, T: t0 + T < latest\n",
    "\n",
    "import time\n",
    "import random\n",
    "start = time.perf_counter()\n",
    "\n",
    "k = 5\n",
    "inits = []\n",
    "for i in range(k):\n",
    "    for j in range(k):\n",
    "        t0_ = earliest + (latest-earliest) * i / k\n",
    "        T_ = (latest - t0_) * j / k\n",
    "        dV = F(t0_, T_)\n",
    "        if dV: inits.append([dV, t0_, T_])\n",
    "inits = sorted(inits, key=lambda x: x[0])\n",
    "\n",
    "end = time.perf_counter()\n",
    "print(end - start)\n",
    "\n",
    "ranges = [[earliest, latest], [timedelta(days=0), latest-earliest]]\n",
    "steps = [(latest-earliest)/k/k, (latest-earliest)/k/k]        \n",
    "\n",
    "N = 1\n",
    "solutions = []\n",
    "for initial in inits[:N]:\n",
    "    pinit = initial[1:]\n",
    "    res = decaying_descent(F, ranges, steps, pinit,\n",
    "               condition=C, iters = 2, decay_factor=k)\n",
    "    dV, solution = direct_transfer(earth, mars, res[0], res[1], GM)\n",
    "    solutions.append([dV, solution])\n",
    "\n",
    "solutions = sorted(solutions, key=lambda x: x[0])\n",
    "    \n",
    "end = time.perf_counter()\n",
    "print(end - start)\n",
    "\n",
    "#direct_transfer(earth, mars, )\n"
   ]
  },
  {
   "cell_type": "code",
   "execution_count": 56,
   "metadata": {},
   "outputs": [
    {
     "data": {
      "text/plain": [
       "[[6.62829370457847,\n",
       "  {'v1': array([28.52242473, 14.71318485,  7.69728694]),\n",
       "   'v2': array([-21.03811167,   3.84464121,   1.02353396]),\n",
       "   'dt': datetime.timedelta(days=203, seconds=86389, microseconds=453557)}]]"
      ]
     },
     "execution_count": 56,
     "metadata": {},
     "output_type": "execute_result"
    }
   ],
   "source": [
    "solutions"
   ]
  },
  {
   "cell_type": "code",
   "execution_count": 11,
   "metadata": {},
   "outputs": [],
   "source": [
    "from app import LambertCalculator\n",
    "a = LambertCalculator(mars, earth, datetime.now(), datetime.now()+timedelta(days=400), sun)\n",
    "res = a.run()"
   ]
  },
  {
   "cell_type": "code",
   "execution_count": 12,
   "metadata": {},
   "outputs": [
    {
     "data": {
      "text/plain": [
       "6.3232398661008435"
      ]
     },
     "execution_count": 12,
     "metadata": {},
     "output_type": "execute_result"
    }
   ],
   "source": [
    "res[0].deltaV"
   ]
  },
  {
   "cell_type": "code",
   "execution_count": null,
   "metadata": {},
   "outputs": [
    {
     "data": {
      "text/html": [
       "<div id=\"glowscript\" class=\"glowscript\"></div>"
      ],
      "text/plain": [
       "<IPython.core.display.HTML object>"
      ]
     },
     "metadata": {},
     "output_type": "display_data"
    },
    {
     "data": {
      "application/javascript": [
       "if (typeof Jupyter !== \"undefined\") { window.__context = { glowscript_container: $(\"#glowscript\").removeAttr(\"id\")};}else{ element.textContent = ' ';}"
      ],
      "text/plain": [
       "<IPython.core.display.Javascript object>"
      ]
     },
     "metadata": {},
     "output_type": "display_data"
    }
   ],
   "source": [
    "from app import MissionCalculator\n",
    "from src.SPICE.ephemeris import ephemeris\n",
    "import spiceypy as sp\n",
    "\n",
    "\n",
    "\n",
    "global ephem\n",
    "ephem = ephemeris(sp, 'C:/Users/HP/Desktop/GravAssist')\n",
    "\n",
    "m = MissionCalculator('VOYAGER 1')\n",
    "\n",
    "res = m.run(ephem)"
   ]
  },
  {
   "cell_type": "code",
   "execution_count": 2,
   "metadata": {},
   "outputs": [
    {
     "data": {
      "text/plain": [
       "[<src.path.path at 0x1bc19042cc8>, <src.path.path at 0x1bc18d22848>]"
      ]
     },
     "execution_count": 2,
     "metadata": {},
     "output_type": "execute_result"
    }
   ],
   "source": [
    "res"
   ]
  }
 ],
 "metadata": {
  "kernelspec": {
   "display_name": "Python 3",
   "language": "python",
   "name": "python3"
  },
  "language_info": {
   "codemirror_mode": {
    "name": "ipython",
    "version": 3
   },
   "file_extension": ".py",
   "mimetype": "text/x-python",
   "name": "python",
   "nbconvert_exporter": "python",
   "pygments_lexer": "ipython3",
   "version": "3.7.4"
  }
 },
 "nbformat": 4,
 "nbformat_minor": 2
}
